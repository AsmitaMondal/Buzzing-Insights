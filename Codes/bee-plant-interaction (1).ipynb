{
 "cells": [
  {
   "cell_type": "markdown",
   "id": "b0458953",
   "metadata": {
    "papermill": {
     "duration": 0.013554,
     "end_time": "2024-04-30T17:53:48.910173",
     "exception": false,
     "start_time": "2024-04-30T17:53:48.896619",
     "status": "completed"
    },
    "tags": []
   },
   "source": [
    "# BEE-PLANT INTERACTION ANALYSIS"
   ]
  },
  {
   "cell_type": "code",
   "execution_count": 1,
   "id": "9a7dfd03",
   "metadata": {
    "execution": {
     "iopub.execute_input": "2024-04-30T17:53:48.939735Z",
     "iopub.status.busy": "2024-04-30T17:53:48.939083Z",
     "iopub.status.idle": "2024-04-30T17:53:49.769322Z",
     "shell.execute_reply": "2024-04-30T17:53:49.768527Z"
    },
    "papermill": {
     "duration": 0.850701,
     "end_time": "2024-04-30T17:53:49.774766",
     "exception": false,
     "start_time": "2024-04-30T17:53:48.924065",
     "status": "completed"
    },
    "tags": []
   },
   "outputs": [
    {
     "name": "stdout",
     "output_type": "stream",
     "text": [
      "/kaggle/input/beeplant/bee-plant interaction dataset.xlsx\n"
     ]
    }
   ],
   "source": [
    "# This Python 3 environment comes with many helpful analytics libraries installed\n",
    "# It is defined by the kaggle/python Docker image: https://github.com/kaggle/docker-python\n",
    "# For example, here's several helpful packages to load\n",
    "\n",
    "import numpy as np # linear algebra\n",
    "import pandas as pd # data processing, CSV file I/O (e.g. pd.read_csv)\n",
    "\n",
    "# Input data files are available in the read-only \"../input/\" directory\n",
    "# For example, running this (by clicking run or pressing Shift+Enter) will list all files under the input directory\n",
    "\n",
    "import os\n",
    "for dirname, _, filenames in os.walk('/kaggle/input'):\n",
    "    for filename in filenames:\n",
    "        print(os.path.join(dirname, filename))\n",
    "\n",
    "import warnings\n",
    "\n",
    "# Ignore warnings\n",
    "warnings.filterwarnings(\"ignore\")\n",
    "\n",
    "\n",
    "\n",
    "# You can write up to 20GB to the current directory (/kaggle/working/) that gets preserved as output when you create a version using \"Save & Run All\" \n",
    "# You can also write temporary files to /kaggle/temp/, but they won't be saved outside of the current session"
   ]
  },
  {
   "cell_type": "markdown",
   "id": "36777c5f",
   "metadata": {
    "papermill": {
     "duration": 0.013864,
     "end_time": "2024-04-30T17:53:49.807503",
     "exception": false,
     "start_time": "2024-04-30T17:53:49.793639",
     "status": "completed"
    },
    "tags": []
   },
   "source": [
    "**READ DATA**"
   ]
  },
  {
   "cell_type": "code",
   "execution_count": 2,
   "id": "be76ce86",
   "metadata": {
    "execution": {
     "iopub.execute_input": "2024-04-30T17:53:49.839201Z",
     "iopub.status.busy": "2024-04-30T17:53:49.838021Z",
     "iopub.status.idle": "2024-04-30T17:53:50.882558Z",
     "shell.execute_reply": "2024-04-30T17:53:50.881537Z"
    },
    "papermill": {
     "duration": 1.064167,
     "end_time": "2024-04-30T17:53:50.884701",
     "exception": false,
     "start_time": "2024-04-30T17:53:49.820534",
     "status": "completed"
    },
    "tags": []
   },
   "outputs": [
    {
     "data": {
      "text/html": [
       "<div>\n",
       "<style scoped>\n",
       "    .dataframe tbody tr th:only-of-type {\n",
       "        vertical-align: middle;\n",
       "    }\n",
       "\n",
       "    .dataframe tbody tr th {\n",
       "        vertical-align: top;\n",
       "    }\n",
       "\n",
       "    .dataframe thead th {\n",
       "        text-align: right;\n",
       "    }\n",
       "</style>\n",
       "<table border=\"1\" class=\"dataframe\">\n",
       "  <thead>\n",
       "    <tr style=\"text-align: right;\">\n",
       "      <th></th>\n",
       "      <th>S/No</th>\n",
       "      <th>species_name</th>\n",
       "      <th>family</th>\n",
       "      <th>sex</th>\n",
       "      <th>identifier</th>\n",
       "      <th>dec_long (decimal degrees)</th>\n",
       "      <th>dec_lat (decimal degrees)</th>\n",
       "      <th>elevation (m a.s.l.)</th>\n",
       "      <th>MAT (°C)</th>\n",
       "      <th>date_of_collection</th>\n",
       "      <th>forage_resource</th>\n",
       "      <th>family.1</th>\n",
       "      <th>life_form</th>\n",
       "      <th>collection_method</th>\n",
       "      <th>grazing_intensity</th>\n",
       "      <th>season</th>\n",
       "    </tr>\n",
       "  </thead>\n",
       "  <tbody>\n",
       "    <tr>\n",
       "      <th>0</th>\n",
       "      <td>1</td>\n",
       "      <td>Acunomia senticosa (Vachal 1897)</td>\n",
       "      <td>Halictidae</td>\n",
       "      <td>Female</td>\n",
       "      <td>A. Pauly</td>\n",
       "      <td>36.0478</td>\n",
       "      <td>-3.5657</td>\n",
       "      <td>1065</td>\n",
       "      <td>23.717757</td>\n",
       "      <td>2019-12-22</td>\n",
       "      <td>Solanum incanum L.</td>\n",
       "      <td>Solanaceae</td>\n",
       "      <td>Perennial shrub</td>\n",
       "      <td>sweep net</td>\n",
       "      <td>low grazing intensity</td>\n",
       "      <td>long_rain</td>\n",
       "    </tr>\n",
       "    <tr>\n",
       "      <th>1</th>\n",
       "      <td>2</td>\n",
       "      <td>Acunomia somalica (Friese 1908)</td>\n",
       "      <td>Halictidae</td>\n",
       "      <td>Female</td>\n",
       "      <td>A. Pauly</td>\n",
       "      <td>37.5968</td>\n",
       "      <td>-3.3682</td>\n",
       "      <td>940</td>\n",
       "      <td>23.350731</td>\n",
       "      <td>2020-01-08</td>\n",
       "      <td>Tephrosia densiflora Hook.f.</td>\n",
       "      <td>Fabaceae</td>\n",
       "      <td>Perennial herb</td>\n",
       "      <td>sweep net</td>\n",
       "      <td>medium grazing intensity</td>\n",
       "      <td>long_rain</td>\n",
       "    </tr>\n",
       "    <tr>\n",
       "      <th>2</th>\n",
       "      <td>3</td>\n",
       "      <td>Acunomia theryi (Gribodo, 1894)</td>\n",
       "      <td>Halictidae</td>\n",
       "      <td>Female</td>\n",
       "      <td>A. Pauly</td>\n",
       "      <td>37.0264</td>\n",
       "      <td>-3.1259</td>\n",
       "      <td>1380</td>\n",
       "      <td>19.753428</td>\n",
       "      <td>2020-01-02</td>\n",
       "      <td>NaN</td>\n",
       "      <td>NaN</td>\n",
       "      <td>NaN</td>\n",
       "      <td>pan trap</td>\n",
       "      <td>medium grazing intensity</td>\n",
       "      <td>long_rain</td>\n",
       "    </tr>\n",
       "    <tr>\n",
       "      <th>3</th>\n",
       "      <td>4</td>\n",
       "      <td>Acunomia theryi (Gribodo, 1894)</td>\n",
       "      <td>Halictidae</td>\n",
       "      <td>Female</td>\n",
       "      <td>A. Pauly</td>\n",
       "      <td>37.0264</td>\n",
       "      <td>-3.1259</td>\n",
       "      <td>1380</td>\n",
       "      <td>19.753428</td>\n",
       "      <td>2020-01-02</td>\n",
       "      <td>Solanum incanum L.</td>\n",
       "      <td>Solanaceae</td>\n",
       "      <td>Perennial shrub</td>\n",
       "      <td>sweep net</td>\n",
       "      <td>medium grazing intensity</td>\n",
       "      <td>long_rain</td>\n",
       "    </tr>\n",
       "    <tr>\n",
       "      <th>4</th>\n",
       "      <td>5</td>\n",
       "      <td>Afranthidium indet1</td>\n",
       "      <td>Megachilidae</td>\n",
       "      <td>Female</td>\n",
       "      <td>J. Lasway</td>\n",
       "      <td>36.7848</td>\n",
       "      <td>-3.4002</td>\n",
       "      <td>1216</td>\n",
       "      <td>21.161605</td>\n",
       "      <td>2019-12-26</td>\n",
       "      <td>On air</td>\n",
       "      <td>NaN</td>\n",
       "      <td>NaN</td>\n",
       "      <td>sweep net</td>\n",
       "      <td>medium grazing intensity</td>\n",
       "      <td>long_rain</td>\n",
       "    </tr>\n",
       "    <tr>\n",
       "      <th>...</th>\n",
       "      <td>...</td>\n",
       "      <td>...</td>\n",
       "      <td>...</td>\n",
       "      <td>...</td>\n",
       "      <td>...</td>\n",
       "      <td>...</td>\n",
       "      <td>...</td>\n",
       "      <td>...</td>\n",
       "      <td>...</td>\n",
       "      <td>...</td>\n",
       "      <td>...</td>\n",
       "      <td>...</td>\n",
       "      <td>...</td>\n",
       "      <td>...</td>\n",
       "      <td>...</td>\n",
       "      <td>...</td>\n",
       "    </tr>\n",
       "    <tr>\n",
       "      <th>2686</th>\n",
       "      <td>2687</td>\n",
       "      <td>Zonalictus nomioides (Friese, 1905)</td>\n",
       "      <td>Halictidae</td>\n",
       "      <td>Female</td>\n",
       "      <td>A. Pauly</td>\n",
       "      <td>36.4956</td>\n",
       "      <td>-3.4079</td>\n",
       "      <td>1330</td>\n",
       "      <td>21.397900</td>\n",
       "      <td>2019-12-26</td>\n",
       "      <td>Schkuhria pinnata (Lam.) Kuntze</td>\n",
       "      <td>Asteraceae</td>\n",
       "      <td>Annual herb</td>\n",
       "      <td>sweep net</td>\n",
       "      <td>high grazing intensity</td>\n",
       "      <td>long_rain</td>\n",
       "    </tr>\n",
       "    <tr>\n",
       "      <th>2687</th>\n",
       "      <td>2688</td>\n",
       "      <td>Zonalictus nomioides (Friese, 1905)</td>\n",
       "      <td>Halictidae</td>\n",
       "      <td>Female</td>\n",
       "      <td>A. Pauly</td>\n",
       "      <td>37.0264</td>\n",
       "      <td>-3.1259</td>\n",
       "      <td>1380</td>\n",
       "      <td>19.753428</td>\n",
       "      <td>2020-01-02</td>\n",
       "      <td>Gutenbergia cordifolia Benth. ex Oliv.</td>\n",
       "      <td>Asteraceae</td>\n",
       "      <td>Annual herb</td>\n",
       "      <td>sweep net</td>\n",
       "      <td>medium grazing intensity</td>\n",
       "      <td>long_rain</td>\n",
       "    </tr>\n",
       "    <tr>\n",
       "      <th>2688</th>\n",
       "      <td>2689</td>\n",
       "      <td>Zonalictus nomioides (Friese, 1905)</td>\n",
       "      <td>Halictidae</td>\n",
       "      <td>Female</td>\n",
       "      <td>A. Pauly</td>\n",
       "      <td>37.0264</td>\n",
       "      <td>-3.1259</td>\n",
       "      <td>1380</td>\n",
       "      <td>19.753428</td>\n",
       "      <td>2020-01-02</td>\n",
       "      <td>On air</td>\n",
       "      <td>NaN</td>\n",
       "      <td>NaN</td>\n",
       "      <td>sweep net</td>\n",
       "      <td>medium grazing intensity</td>\n",
       "      <td>long_rain</td>\n",
       "    </tr>\n",
       "    <tr>\n",
       "      <th>2689</th>\n",
       "      <td>2690</td>\n",
       "      <td>Zonalictus nomioides (Friese, 1905)</td>\n",
       "      <td>Halictidae</td>\n",
       "      <td>Female</td>\n",
       "      <td>A. Pauly</td>\n",
       "      <td>36.5838</td>\n",
       "      <td>-3.3562</td>\n",
       "      <td>1441</td>\n",
       "      <td>20.204674</td>\n",
       "      <td>2019-12-26</td>\n",
       "      <td>Solanum lycopersicum L.</td>\n",
       "      <td>Solanaceae</td>\n",
       "      <td>Annual herb</td>\n",
       "      <td>sweep net</td>\n",
       "      <td>medium grazing intensity</td>\n",
       "      <td>long_rain</td>\n",
       "    </tr>\n",
       "    <tr>\n",
       "      <th>2690</th>\n",
       "      <td>2691</td>\n",
       "      <td>Zonalictus nomioides (Friese, 1905)</td>\n",
       "      <td>Halictidae</td>\n",
       "      <td>Female</td>\n",
       "      <td>A. Pauly</td>\n",
       "      <td>36.8663</td>\n",
       "      <td>-3.2372</td>\n",
       "      <td>1576</td>\n",
       "      <td>19.169354</td>\n",
       "      <td>2019-12-28</td>\n",
       "      <td>NaN</td>\n",
       "      <td>NaN</td>\n",
       "      <td>NaN</td>\n",
       "      <td>pan trap</td>\n",
       "      <td>low grazing intensity</td>\n",
       "      <td>long_rain</td>\n",
       "    </tr>\n",
       "  </tbody>\n",
       "</table>\n",
       "<p>2691 rows × 16 columns</p>\n",
       "</div>"
      ],
      "text/plain": [
       "      S/No                         species_name        family     sex  \\\n",
       "0        1     Acunomia senticosa (Vachal 1897)    Halictidae  Female   \n",
       "1        2      Acunomia somalica (Friese 1908)    Halictidae  Female   \n",
       "2        3      Acunomia theryi (Gribodo, 1894)    Halictidae  Female   \n",
       "3        4      Acunomia theryi (Gribodo, 1894)    Halictidae  Female   \n",
       "4        5                  Afranthidium indet1  Megachilidae  Female   \n",
       "...    ...                                  ...           ...     ...   \n",
       "2686  2687  Zonalictus nomioides (Friese, 1905)    Halictidae  Female   \n",
       "2687  2688  Zonalictus nomioides (Friese, 1905)    Halictidae  Female   \n",
       "2688  2689  Zonalictus nomioides (Friese, 1905)    Halictidae  Female   \n",
       "2689  2690  Zonalictus nomioides (Friese, 1905)    Halictidae  Female   \n",
       "2690  2691  Zonalictus nomioides (Friese, 1905)    Halictidae  Female   \n",
       "\n",
       "     identifier  dec_long (decimal degrees)  dec_lat (decimal degrees)  \\\n",
       "0      A. Pauly                     36.0478                    -3.5657   \n",
       "1      A. Pauly                     37.5968                    -3.3682   \n",
       "2      A. Pauly                     37.0264                    -3.1259   \n",
       "3      A. Pauly                     37.0264                    -3.1259   \n",
       "4     J. Lasway                     36.7848                    -3.4002   \n",
       "...         ...                         ...                        ...   \n",
       "2686   A. Pauly                     36.4956                    -3.4079   \n",
       "2687   A. Pauly                     37.0264                    -3.1259   \n",
       "2688   A. Pauly                     37.0264                    -3.1259   \n",
       "2689   A. Pauly                     36.5838                    -3.3562   \n",
       "2690   A. Pauly                     36.8663                    -3.2372   \n",
       "\n",
       "      elevation (m a.s.l.)   MAT (°C) date_of_collection  \\\n",
       "0                     1065  23.717757         2019-12-22   \n",
       "1                      940  23.350731         2020-01-08   \n",
       "2                     1380  19.753428         2020-01-02   \n",
       "3                     1380  19.753428         2020-01-02   \n",
       "4                     1216  21.161605         2019-12-26   \n",
       "...                    ...        ...                ...   \n",
       "2686                  1330  21.397900         2019-12-26   \n",
       "2687                  1380  19.753428         2020-01-02   \n",
       "2688                  1380  19.753428         2020-01-02   \n",
       "2689                  1441  20.204674         2019-12-26   \n",
       "2690                  1576  19.169354         2019-12-28   \n",
       "\n",
       "                             forage_resource    family.1        life_form  \\\n",
       "0                         Solanum incanum L.  Solanaceae  Perennial shrub   \n",
       "1               Tephrosia densiflora Hook.f.    Fabaceae   Perennial herb   \n",
       "2                                        NaN         NaN              NaN   \n",
       "3                         Solanum incanum L.  Solanaceae  Perennial shrub   \n",
       "4                                     On air         NaN              NaN   \n",
       "...                                      ...         ...              ...   \n",
       "2686         Schkuhria pinnata (Lam.) Kuntze  Asteraceae      Annual herb   \n",
       "2687  Gutenbergia cordifolia Benth. ex Oliv.  Asteraceae      Annual herb   \n",
       "2688                                  On air         NaN              NaN   \n",
       "2689                 Solanum lycopersicum L.  Solanaceae      Annual herb   \n",
       "2690                                     NaN         NaN              NaN   \n",
       "\n",
       "     collection_method         grazing_intensity     season  \n",
       "0            sweep net     low grazing intensity  long_rain  \n",
       "1            sweep net  medium grazing intensity  long_rain  \n",
       "2             pan trap  medium grazing intensity  long_rain  \n",
       "3            sweep net  medium grazing intensity  long_rain  \n",
       "4            sweep net  medium grazing intensity  long_rain  \n",
       "...                ...                       ...        ...  \n",
       "2686         sweep net    high grazing intensity  long_rain  \n",
       "2687         sweep net  medium grazing intensity  long_rain  \n",
       "2688         sweep net  medium grazing intensity  long_rain  \n",
       "2689         sweep net  medium grazing intensity  long_rain  \n",
       "2690          pan trap     low grazing intensity  long_rain  \n",
       "\n",
       "[2691 rows x 16 columns]"
      ]
     },
     "execution_count": 2,
     "metadata": {},
     "output_type": "execute_result"
    }
   ],
   "source": [
    "df=pd.read_excel('/kaggle/input/beeplant/bee-plant interaction dataset.xlsx')\n",
    "df"
   ]
  },
  {
   "cell_type": "markdown",
   "id": "9076f166",
   "metadata": {
    "papermill": {
     "duration": 0.013097,
     "end_time": "2024-04-30T17:53:50.911225",
     "exception": false,
     "start_time": "2024-04-30T17:53:50.898128",
     "status": "completed"
    },
    "tags": []
   },
   "source": [
    "**DROP UNNECESSARY COLUMNS**"
   ]
  },
  {
   "cell_type": "code",
   "execution_count": 3,
   "id": "5657d07d",
   "metadata": {
    "execution": {
     "iopub.execute_input": "2024-04-30T17:53:50.939910Z",
     "iopub.status.busy": "2024-04-30T17:53:50.939394Z",
     "iopub.status.idle": "2024-04-30T17:53:50.959067Z",
     "shell.execute_reply": "2024-04-30T17:53:50.958036Z"
    },
    "papermill": {
     "duration": 0.036711,
     "end_time": "2024-04-30T17:53:50.961257",
     "exception": false,
     "start_time": "2024-04-30T17:53:50.924546",
     "status": "completed"
    },
    "tags": []
   },
   "outputs": [
    {
     "data": {
      "text/html": [
       "<div>\n",
       "<style scoped>\n",
       "    .dataframe tbody tr th:only-of-type {\n",
       "        vertical-align: middle;\n",
       "    }\n",
       "\n",
       "    .dataframe tbody tr th {\n",
       "        vertical-align: top;\n",
       "    }\n",
       "\n",
       "    .dataframe thead th {\n",
       "        text-align: right;\n",
       "    }\n",
       "</style>\n",
       "<table border=\"1\" class=\"dataframe\">\n",
       "  <thead>\n",
       "    <tr style=\"text-align: right;\">\n",
       "      <th></th>\n",
       "      <th>species_name</th>\n",
       "      <th>family</th>\n",
       "      <th>sex</th>\n",
       "      <th>identifier</th>\n",
       "      <th>forage_resource</th>\n",
       "      <th>family.1</th>\n",
       "      <th>life_form</th>\n",
       "      <th>collection_method</th>\n",
       "      <th>grazing_intensity</th>\n",
       "      <th>season</th>\n",
       "    </tr>\n",
       "  </thead>\n",
       "  <tbody>\n",
       "    <tr>\n",
       "      <th>0</th>\n",
       "      <td>Acunomia senticosa (Vachal 1897)</td>\n",
       "      <td>Halictidae</td>\n",
       "      <td>Female</td>\n",
       "      <td>A. Pauly</td>\n",
       "      <td>Solanum incanum L.</td>\n",
       "      <td>Solanaceae</td>\n",
       "      <td>Perennial shrub</td>\n",
       "      <td>sweep net</td>\n",
       "      <td>low grazing intensity</td>\n",
       "      <td>long_rain</td>\n",
       "    </tr>\n",
       "    <tr>\n",
       "      <th>1</th>\n",
       "      <td>Acunomia somalica (Friese 1908)</td>\n",
       "      <td>Halictidae</td>\n",
       "      <td>Female</td>\n",
       "      <td>A. Pauly</td>\n",
       "      <td>Tephrosia densiflora Hook.f.</td>\n",
       "      <td>Fabaceae</td>\n",
       "      <td>Perennial herb</td>\n",
       "      <td>sweep net</td>\n",
       "      <td>medium grazing intensity</td>\n",
       "      <td>long_rain</td>\n",
       "    </tr>\n",
       "    <tr>\n",
       "      <th>2</th>\n",
       "      <td>Acunomia theryi (Gribodo, 1894)</td>\n",
       "      <td>Halictidae</td>\n",
       "      <td>Female</td>\n",
       "      <td>A. Pauly</td>\n",
       "      <td>NaN</td>\n",
       "      <td>NaN</td>\n",
       "      <td>NaN</td>\n",
       "      <td>pan trap</td>\n",
       "      <td>medium grazing intensity</td>\n",
       "      <td>long_rain</td>\n",
       "    </tr>\n",
       "    <tr>\n",
       "      <th>3</th>\n",
       "      <td>Acunomia theryi (Gribodo, 1894)</td>\n",
       "      <td>Halictidae</td>\n",
       "      <td>Female</td>\n",
       "      <td>A. Pauly</td>\n",
       "      <td>Solanum incanum L.</td>\n",
       "      <td>Solanaceae</td>\n",
       "      <td>Perennial shrub</td>\n",
       "      <td>sweep net</td>\n",
       "      <td>medium grazing intensity</td>\n",
       "      <td>long_rain</td>\n",
       "    </tr>\n",
       "    <tr>\n",
       "      <th>4</th>\n",
       "      <td>Afranthidium indet1</td>\n",
       "      <td>Megachilidae</td>\n",
       "      <td>Female</td>\n",
       "      <td>J. Lasway</td>\n",
       "      <td>On air</td>\n",
       "      <td>NaN</td>\n",
       "      <td>NaN</td>\n",
       "      <td>sweep net</td>\n",
       "      <td>medium grazing intensity</td>\n",
       "      <td>long_rain</td>\n",
       "    </tr>\n",
       "    <tr>\n",
       "      <th>...</th>\n",
       "      <td>...</td>\n",
       "      <td>...</td>\n",
       "      <td>...</td>\n",
       "      <td>...</td>\n",
       "      <td>...</td>\n",
       "      <td>...</td>\n",
       "      <td>...</td>\n",
       "      <td>...</td>\n",
       "      <td>...</td>\n",
       "      <td>...</td>\n",
       "    </tr>\n",
       "    <tr>\n",
       "      <th>2686</th>\n",
       "      <td>Zonalictus nomioides (Friese, 1905)</td>\n",
       "      <td>Halictidae</td>\n",
       "      <td>Female</td>\n",
       "      <td>A. Pauly</td>\n",
       "      <td>Schkuhria pinnata (Lam.) Kuntze</td>\n",
       "      <td>Asteraceae</td>\n",
       "      <td>Annual herb</td>\n",
       "      <td>sweep net</td>\n",
       "      <td>high grazing intensity</td>\n",
       "      <td>long_rain</td>\n",
       "    </tr>\n",
       "    <tr>\n",
       "      <th>2687</th>\n",
       "      <td>Zonalictus nomioides (Friese, 1905)</td>\n",
       "      <td>Halictidae</td>\n",
       "      <td>Female</td>\n",
       "      <td>A. Pauly</td>\n",
       "      <td>Gutenbergia cordifolia Benth. ex Oliv.</td>\n",
       "      <td>Asteraceae</td>\n",
       "      <td>Annual herb</td>\n",
       "      <td>sweep net</td>\n",
       "      <td>medium grazing intensity</td>\n",
       "      <td>long_rain</td>\n",
       "    </tr>\n",
       "    <tr>\n",
       "      <th>2688</th>\n",
       "      <td>Zonalictus nomioides (Friese, 1905)</td>\n",
       "      <td>Halictidae</td>\n",
       "      <td>Female</td>\n",
       "      <td>A. Pauly</td>\n",
       "      <td>On air</td>\n",
       "      <td>NaN</td>\n",
       "      <td>NaN</td>\n",
       "      <td>sweep net</td>\n",
       "      <td>medium grazing intensity</td>\n",
       "      <td>long_rain</td>\n",
       "    </tr>\n",
       "    <tr>\n",
       "      <th>2689</th>\n",
       "      <td>Zonalictus nomioides (Friese, 1905)</td>\n",
       "      <td>Halictidae</td>\n",
       "      <td>Female</td>\n",
       "      <td>A. Pauly</td>\n",
       "      <td>Solanum lycopersicum L.</td>\n",
       "      <td>Solanaceae</td>\n",
       "      <td>Annual herb</td>\n",
       "      <td>sweep net</td>\n",
       "      <td>medium grazing intensity</td>\n",
       "      <td>long_rain</td>\n",
       "    </tr>\n",
       "    <tr>\n",
       "      <th>2690</th>\n",
       "      <td>Zonalictus nomioides (Friese, 1905)</td>\n",
       "      <td>Halictidae</td>\n",
       "      <td>Female</td>\n",
       "      <td>A. Pauly</td>\n",
       "      <td>NaN</td>\n",
       "      <td>NaN</td>\n",
       "      <td>NaN</td>\n",
       "      <td>pan trap</td>\n",
       "      <td>low grazing intensity</td>\n",
       "      <td>long_rain</td>\n",
       "    </tr>\n",
       "  </tbody>\n",
       "</table>\n",
       "<p>2691 rows × 10 columns</p>\n",
       "</div>"
      ],
      "text/plain": [
       "                             species_name        family     sex identifier  \\\n",
       "0        Acunomia senticosa (Vachal 1897)    Halictidae  Female   A. Pauly   \n",
       "1         Acunomia somalica (Friese 1908)    Halictidae  Female   A. Pauly   \n",
       "2         Acunomia theryi (Gribodo, 1894)    Halictidae  Female   A. Pauly   \n",
       "3         Acunomia theryi (Gribodo, 1894)    Halictidae  Female   A. Pauly   \n",
       "4                     Afranthidium indet1  Megachilidae  Female  J. Lasway   \n",
       "...                                   ...           ...     ...        ...   \n",
       "2686  Zonalictus nomioides (Friese, 1905)    Halictidae  Female   A. Pauly   \n",
       "2687  Zonalictus nomioides (Friese, 1905)    Halictidae  Female   A. Pauly   \n",
       "2688  Zonalictus nomioides (Friese, 1905)    Halictidae  Female   A. Pauly   \n",
       "2689  Zonalictus nomioides (Friese, 1905)    Halictidae  Female   A. Pauly   \n",
       "2690  Zonalictus nomioides (Friese, 1905)    Halictidae  Female   A. Pauly   \n",
       "\n",
       "                             forage_resource    family.1        life_form  \\\n",
       "0                         Solanum incanum L.  Solanaceae  Perennial shrub   \n",
       "1               Tephrosia densiflora Hook.f.    Fabaceae   Perennial herb   \n",
       "2                                        NaN         NaN              NaN   \n",
       "3                         Solanum incanum L.  Solanaceae  Perennial shrub   \n",
       "4                                     On air         NaN              NaN   \n",
       "...                                      ...         ...              ...   \n",
       "2686         Schkuhria pinnata (Lam.) Kuntze  Asteraceae      Annual herb   \n",
       "2687  Gutenbergia cordifolia Benth. ex Oliv.  Asteraceae      Annual herb   \n",
       "2688                                  On air         NaN              NaN   \n",
       "2689                 Solanum lycopersicum L.  Solanaceae      Annual herb   \n",
       "2690                                     NaN         NaN              NaN   \n",
       "\n",
       "     collection_method         grazing_intensity     season  \n",
       "0            sweep net     low grazing intensity  long_rain  \n",
       "1            sweep net  medium grazing intensity  long_rain  \n",
       "2             pan trap  medium grazing intensity  long_rain  \n",
       "3            sweep net  medium grazing intensity  long_rain  \n",
       "4            sweep net  medium grazing intensity  long_rain  \n",
       "...                ...                       ...        ...  \n",
       "2686         sweep net    high grazing intensity  long_rain  \n",
       "2687         sweep net  medium grazing intensity  long_rain  \n",
       "2688         sweep net  medium grazing intensity  long_rain  \n",
       "2689         sweep net  medium grazing intensity  long_rain  \n",
       "2690          pan trap     low grazing intensity  long_rain  \n",
       "\n",
       "[2691 rows x 10 columns]"
      ]
     },
     "execution_count": 3,
     "metadata": {},
     "output_type": "execute_result"
    }
   ],
   "source": [
    "df.drop(columns=['S/No','dec_long (decimal degrees)','dec_lat (decimal degrees)','elevation (m a.s.l.)','MAT (°C)','date_of_collection'],inplace=True)\n",
    "df"
   ]
  },
  {
   "cell_type": "code",
   "execution_count": 4,
   "id": "f2a7e118",
   "metadata": {
    "execution": {
     "iopub.execute_input": "2024-04-30T17:53:50.990886Z",
     "iopub.status.busy": "2024-04-30T17:53:50.989911Z",
     "iopub.status.idle": "2024-04-30T17:53:52.308225Z",
     "shell.execute_reply": "2024-04-30T17:53:52.307162Z"
    },
    "papermill": {
     "duration": 1.336359,
     "end_time": "2024-04-30T17:53:52.311362",
     "exception": false,
     "start_time": "2024-04-30T17:53:50.975003",
     "status": "completed"
    },
    "tags": []
   },
   "outputs": [],
   "source": [
    "from sklearn.model_selection import train_test_split\n",
    "from sklearn.linear_model import LogisticRegression\n",
    "from sklearn.metrics import accuracy_score"
   ]
  },
  {
   "cell_type": "markdown",
   "id": "e409aa5c",
   "metadata": {
    "papermill": {
     "duration": 0.013615,
     "end_time": "2024-04-30T17:53:52.339052",
     "exception": false,
     "start_time": "2024-04-30T17:53:52.325437",
     "status": "completed"
    },
    "tags": []
   },
   "source": [
    "# WITHOUT MISSING VALUE IMPUTATION"
   ]
  },
  {
   "cell_type": "code",
   "execution_count": 5,
   "id": "0e10c477",
   "metadata": {
    "execution": {
     "iopub.execute_input": "2024-04-30T17:53:52.368723Z",
     "iopub.status.busy": "2024-04-30T17:53:52.367777Z",
     "iopub.status.idle": "2024-04-30T17:53:52.377459Z",
     "shell.execute_reply": "2024-04-30T17:53:52.376556Z"
    },
    "papermill": {
     "duration": 0.026535,
     "end_time": "2024-04-30T17:53:52.379457",
     "exception": false,
     "start_time": "2024-04-30T17:53:52.352922",
     "status": "completed"
    },
    "tags": []
   },
   "outputs": [
    {
     "data": {
      "text/plain": [
       "species_name            0\n",
       "family                  0\n",
       "sex                     0\n",
       "identifier              0\n",
       "forage_resource      1803\n",
       "family.1             1856\n",
       "life_form            1856\n",
       "collection_method       0\n",
       "grazing_intensity       0\n",
       "season                  0\n",
       "dtype: int64"
      ]
     },
     "execution_count": 5,
     "metadata": {},
     "output_type": "execute_result"
    }
   ],
   "source": [
    "df.isna().sum()"
   ]
  },
  {
   "cell_type": "markdown",
   "id": "6b3d59d8",
   "metadata": {
    "papermill": {
     "duration": 0.01423,
     "end_time": "2024-04-30T17:53:52.407892",
     "exception": false,
     "start_time": "2024-04-30T17:53:52.393662",
     "status": "completed"
    },
    "tags": []
   },
   "source": [
    "**LABEL ENCODING**"
   ]
  },
  {
   "cell_type": "code",
   "execution_count": 6,
   "id": "cebdb8a3",
   "metadata": {
    "execution": {
     "iopub.execute_input": "2024-04-30T17:53:52.438269Z",
     "iopub.status.busy": "2024-04-30T17:53:52.437535Z",
     "iopub.status.idle": "2024-04-30T17:53:52.452790Z",
     "shell.execute_reply": "2024-04-30T17:53:52.451917Z"
    },
    "papermill": {
     "duration": 0.033702,
     "end_time": "2024-04-30T17:53:52.455355",
     "exception": false,
     "start_time": "2024-04-30T17:53:52.421653",
     "status": "completed"
    },
    "tags": []
   },
   "outputs": [],
   "source": [
    "from sklearn.preprocessing import LabelEncoder\n",
    "columns_to_encode = ['species_name','family','sex','collection_method','identifier','forage_resource','family.1','life_form','grazing_intensity','season']\n",
    "\n",
    "\n",
    "encoder = LabelEncoder()\n",
    "\n",
    "for column in columns_to_encode:\n",
    "    df[column] = encoder.fit_transform(df[column])"
   ]
  },
  {
   "cell_type": "code",
   "execution_count": 7,
   "id": "ba9b8098",
   "metadata": {
    "execution": {
     "iopub.execute_input": "2024-04-30T17:53:52.485612Z",
     "iopub.status.busy": "2024-04-30T17:53:52.484896Z",
     "iopub.status.idle": "2024-04-30T17:53:52.493171Z",
     "shell.execute_reply": "2024-04-30T17:53:52.492256Z"
    },
    "papermill": {
     "duration": 0.025598,
     "end_time": "2024-04-30T17:53:52.495147",
     "exception": false,
     "start_time": "2024-04-30T17:53:52.469549",
     "status": "completed"
    },
    "tags": []
   },
   "outputs": [
    {
     "data": {
      "text/plain": [
       "species_name         0\n",
       "family               0\n",
       "sex                  0\n",
       "identifier           0\n",
       "forage_resource      0\n",
       "family.1             0\n",
       "life_form            0\n",
       "collection_method    0\n",
       "grazing_intensity    0\n",
       "season               0\n",
       "dtype: int64"
      ]
     },
     "execution_count": 7,
     "metadata": {},
     "output_type": "execute_result"
    }
   ],
   "source": [
    "df.isna().sum()"
   ]
  },
  {
   "cell_type": "markdown",
   "id": "517c61fa",
   "metadata": {
    "papermill": {
     "duration": 0.015233,
     "end_time": "2024-04-30T17:53:52.524382",
     "exception": false,
     "start_time": "2024-04-30T17:53:52.509149",
     "status": "completed"
    },
    "tags": []
   },
   "source": [
    "**MODELLING**"
   ]
  },
  {
   "cell_type": "code",
   "execution_count": 8,
   "id": "f5e970ad",
   "metadata": {
    "execution": {
     "iopub.execute_input": "2024-04-30T17:53:52.554654Z",
     "iopub.status.busy": "2024-04-30T17:53:52.553938Z",
     "iopub.status.idle": "2024-04-30T17:53:52.559907Z",
     "shell.execute_reply": "2024-04-30T17:53:52.559118Z"
    },
    "papermill": {
     "duration": 0.023389,
     "end_time": "2024-04-30T17:53:52.561897",
     "exception": false,
     "start_time": "2024-04-30T17:53:52.538508",
     "status": "completed"
    },
    "tags": []
   },
   "outputs": [],
   "source": [
    "X=df[['family','life_form','season']]\n",
    "y=df['sex']"
   ]
  },
  {
   "cell_type": "code",
   "execution_count": 9,
   "id": "fa30f709",
   "metadata": {
    "execution": {
     "iopub.execute_input": "2024-04-30T17:53:52.591860Z",
     "iopub.status.busy": "2024-04-30T17:53:52.590933Z",
     "iopub.status.idle": "2024-04-30T17:53:52.611576Z",
     "shell.execute_reply": "2024-04-30T17:53:52.610783Z"
    },
    "papermill": {
     "duration": 0.037786,
     "end_time": "2024-04-30T17:53:52.613643",
     "exception": false,
     "start_time": "2024-04-30T17:53:52.575857",
     "status": "completed"
    },
    "tags": []
   },
   "outputs": [
    {
     "name": "stdout",
     "output_type": "stream",
     "text": [
      "Accuracy of Logistic regression classifier on training set: 0.95\n",
      "Accuracy of Logistic regression classifier on test set: 0.95\n"
     ]
    }
   ],
   "source": [
    "X_train, X_test, y_train, y_test = train_test_split(X, y,test_size=0.3, random_state = 0)\n",
    "clf = LogisticRegression(solver='liblinear').fit(X_train, y_train)\n",
    "print('Accuracy of Logistic regression classifier on training set: {:.2f}'.format(clf.score(X_train, y_train)))\n",
    "print('Accuracy of Logistic regression classifier on test set: {:.2f}'.format(clf.score(X_test, y_test)))"
   ]
  },
  {
   "cell_type": "code",
   "execution_count": 10,
   "id": "dfab0e0c",
   "metadata": {
    "execution": {
     "iopub.execute_input": "2024-04-30T17:53:52.643606Z",
     "iopub.status.busy": "2024-04-30T17:53:52.643075Z",
     "iopub.status.idle": "2024-04-30T17:53:52.647770Z",
     "shell.execute_reply": "2024-04-30T17:53:52.647073Z"
    },
    "papermill": {
     "duration": 0.02189,
     "end_time": "2024-04-30T17:53:52.649647",
     "exception": false,
     "start_time": "2024-04-30T17:53:52.627757",
     "status": "completed"
    },
    "tags": []
   },
   "outputs": [],
   "source": [
    "X1=df[['forage_resource','family.1','life_form']]\n",
    "y1=df['collection_method']"
   ]
  },
  {
   "cell_type": "code",
   "execution_count": 11,
   "id": "4d7989bf",
   "metadata": {
    "execution": {
     "iopub.execute_input": "2024-04-30T17:53:52.679883Z",
     "iopub.status.busy": "2024-04-30T17:53:52.679319Z",
     "iopub.status.idle": "2024-04-30T17:53:52.698792Z",
     "shell.execute_reply": "2024-04-30T17:53:52.697641Z"
    },
    "papermill": {
     "duration": 0.037026,
     "end_time": "2024-04-30T17:53:52.700851",
     "exception": false,
     "start_time": "2024-04-30T17:53:52.663825",
     "status": "completed"
    },
    "tags": []
   },
   "outputs": [
    {
     "name": "stdout",
     "output_type": "stream",
     "text": [
      "Accuracy of Logistic regression classifier on training set: 0.98\n",
      "Accuracy of Logistic regression classifier on test set: 0.97\n"
     ]
    }
   ],
   "source": [
    "X_train, X_test, y_train, y_test = train_test_split(X1, y1,test_size=0.3, random_state = 0)\n",
    "clf = LogisticRegression(solver='liblinear').fit(X_train, y_train)\n",
    "print('Accuracy of Logistic regression classifier on training set: {:.2f}'.format(clf.score(X_train, y_train)))\n",
    "print('Accuracy of Logistic regression classifier on test set: {:.2f}'.format(clf.score(X_test, y_test)))"
   ]
  },
  {
   "cell_type": "code",
   "execution_count": 12,
   "id": "c260039d",
   "metadata": {
    "execution": {
     "iopub.execute_input": "2024-04-30T17:53:52.730815Z",
     "iopub.status.busy": "2024-04-30T17:53:52.730444Z",
     "iopub.status.idle": "2024-04-30T17:53:52.736055Z",
     "shell.execute_reply": "2024-04-30T17:53:52.735305Z"
    },
    "papermill": {
     "duration": 0.022865,
     "end_time": "2024-04-30T17:53:52.737877",
     "exception": false,
     "start_time": "2024-04-30T17:53:52.715012",
     "status": "completed"
    },
    "tags": []
   },
   "outputs": [],
   "source": [
    "X3=df[['species_name']]\n",
    "y3=df[['family']]"
   ]
  },
  {
   "cell_type": "code",
   "execution_count": 13,
   "id": "10dfdcba",
   "metadata": {
    "execution": {
     "iopub.execute_input": "2024-04-30T17:53:52.767933Z",
     "iopub.status.busy": "2024-04-30T17:53:52.767212Z",
     "iopub.status.idle": "2024-04-30T17:53:52.774169Z",
     "shell.execute_reply": "2024-04-30T17:53:52.773183Z"
    },
    "papermill": {
     "duration": 0.024102,
     "end_time": "2024-04-30T17:53:52.776131",
     "exception": false,
     "start_time": "2024-04-30T17:53:52.752029",
     "status": "completed"
    },
    "tags": []
   },
   "outputs": [],
   "source": [
    "X_train, X_test, y_train, y_test = train_test_split(X3, y3,test_size=0.3, random_state = 0)\n"
   ]
  },
  {
   "cell_type": "code",
   "execution_count": 14,
   "id": "39cc612d",
   "metadata": {
    "execution": {
     "iopub.execute_input": "2024-04-30T17:53:52.806378Z",
     "iopub.status.busy": "2024-04-30T17:53:52.805667Z",
     "iopub.status.idle": "2024-04-30T17:53:53.194989Z",
     "shell.execute_reply": "2024-04-30T17:53:53.193789Z"
    },
    "papermill": {
     "duration": 0.406946,
     "end_time": "2024-04-30T17:53:53.197366",
     "exception": false,
     "start_time": "2024-04-30T17:53:52.790420",
     "status": "completed"
    },
    "tags": []
   },
   "outputs": [
    {
     "name": "stdout",
     "output_type": "stream",
     "text": [
      "Decision Tree Accuracy: 0.995049504950495\n",
      "Random Forest Accuracy: 0.995049504950495\n"
     ]
    }
   ],
   "source": [
    "from sklearn.tree import DecisionTreeClassifier\n",
    "from sklearn.ensemble import RandomForestClassifier\n",
    "from sklearn.metrics import accuracy_score\n",
    "\n",
    "# Decision Tree\n",
    "dt_model = DecisionTreeClassifier()\n",
    "dt_model.fit(X_train, y_train.values.ravel())\n",
    "dt_predictions = dt_model.predict(X_test)\n",
    "dt_accuracy = accuracy_score(y_test, dt_predictions)\n",
    "\n",
    "# Random Forest\n",
    "rf_model = RandomForestClassifier()\n",
    "rf_model.fit(X_train, y_train.values.ravel())\n",
    "rf_predictions = rf_model.predict(X_test)\n",
    "rf_accuracy = accuracy_score(y_test, rf_predictions)\n",
    "\n",
    "print(\"Decision Tree Accuracy:\", dt_accuracy)\n",
    "print(\"Random Forest Accuracy:\", rf_accuracy)\n"
   ]
  },
  {
   "cell_type": "markdown",
   "id": "3bf73925",
   "metadata": {
    "papermill": {
     "duration": 0.013962,
     "end_time": "2024-04-30T17:53:53.225751",
     "exception": false,
     "start_time": "2024-04-30T17:53:53.211789",
     "status": "completed"
    },
    "tags": []
   },
   "source": [
    "# WITH MODE IMPUTATION"
   ]
  },
  {
   "cell_type": "code",
   "execution_count": 15,
   "id": "974c7b61",
   "metadata": {
    "execution": {
     "iopub.execute_input": "2024-04-30T17:53:53.312786Z",
     "iopub.status.busy": "2024-04-30T17:53:53.312432Z",
     "iopub.status.idle": "2024-04-30T17:53:53.322871Z",
     "shell.execute_reply": "2024-04-30T17:53:53.321849Z"
    },
    "papermill": {
     "duration": 0.028401,
     "end_time": "2024-04-30T17:53:53.325068",
     "exception": false,
     "start_time": "2024-04-30T17:53:53.296667",
     "status": "completed"
    },
    "tags": []
   },
   "outputs": [],
   "source": [
    "# Mode imputation\n",
    "df['forage_resource'].fillna(df['forage_resource'].mode()[0], inplace=True)\n",
    "# Mode imputation\n",
    "df['life_form'].fillna(df['life_form'].mode()[0], inplace=True)\n",
    "# Mode imputation\n",
    "df['family.1'].fillna(df['family.1'].mode()[0], inplace=True)\n"
   ]
  },
  {
   "cell_type": "code",
   "execution_count": 16,
   "id": "d752c9ea",
   "metadata": {
    "execution": {
     "iopub.execute_input": "2024-04-30T17:53:53.355530Z",
     "iopub.status.busy": "2024-04-30T17:53:53.355145Z",
     "iopub.status.idle": "2024-04-30T17:53:53.371510Z",
     "shell.execute_reply": "2024-04-30T17:53:53.370531Z"
    },
    "papermill": {
     "duration": 0.033613,
     "end_time": "2024-04-30T17:53:53.373395",
     "exception": false,
     "start_time": "2024-04-30T17:53:53.339782",
     "status": "completed"
    },
    "tags": []
   },
   "outputs": [
    {
     "data": {
      "text/html": [
       "<div>\n",
       "<style scoped>\n",
       "    .dataframe tbody tr th:only-of-type {\n",
       "        vertical-align: middle;\n",
       "    }\n",
       "\n",
       "    .dataframe tbody tr th {\n",
       "        vertical-align: top;\n",
       "    }\n",
       "\n",
       "    .dataframe thead th {\n",
       "        text-align: right;\n",
       "    }\n",
       "</style>\n",
       "<table border=\"1\" class=\"dataframe\">\n",
       "  <thead>\n",
       "    <tr style=\"text-align: right;\">\n",
       "      <th></th>\n",
       "      <th>species_name</th>\n",
       "      <th>family</th>\n",
       "      <th>sex</th>\n",
       "      <th>identifier</th>\n",
       "      <th>forage_resource</th>\n",
       "      <th>family.1</th>\n",
       "      <th>life_form</th>\n",
       "      <th>collection_method</th>\n",
       "      <th>grazing_intensity</th>\n",
       "      <th>season</th>\n",
       "    </tr>\n",
       "  </thead>\n",
       "  <tbody>\n",
       "    <tr>\n",
       "      <th>0</th>\n",
       "      <td>0</td>\n",
       "      <td>3</td>\n",
       "      <td>0</td>\n",
       "      <td>0</td>\n",
       "      <td>91</td>\n",
       "      <td>23</td>\n",
       "      <td>9</td>\n",
       "      <td>1</td>\n",
       "      <td>1</td>\n",
       "      <td>1</td>\n",
       "    </tr>\n",
       "    <tr>\n",
       "      <th>1</th>\n",
       "      <td>1</td>\n",
       "      <td>3</td>\n",
       "      <td>0</td>\n",
       "      <td>0</td>\n",
       "      <td>96</td>\n",
       "      <td>13</td>\n",
       "      <td>6</td>\n",
       "      <td>1</td>\n",
       "      <td>2</td>\n",
       "      <td>1</td>\n",
       "    </tr>\n",
       "    <tr>\n",
       "      <th>2</th>\n",
       "      <td>2</td>\n",
       "      <td>3</td>\n",
       "      <td>0</td>\n",
       "      <td>0</td>\n",
       "      <td>112</td>\n",
       "      <td>27</td>\n",
       "      <td>14</td>\n",
       "      <td>0</td>\n",
       "      <td>2</td>\n",
       "      <td>1</td>\n",
       "    </tr>\n",
       "    <tr>\n",
       "      <th>3</th>\n",
       "      <td>2</td>\n",
       "      <td>3</td>\n",
       "      <td>0</td>\n",
       "      <td>0</td>\n",
       "      <td>91</td>\n",
       "      <td>23</td>\n",
       "      <td>9</td>\n",
       "      <td>1</td>\n",
       "      <td>2</td>\n",
       "      <td>1</td>\n",
       "    </tr>\n",
       "    <tr>\n",
       "      <th>4</th>\n",
       "      <td>3</td>\n",
       "      <td>4</td>\n",
       "      <td>0</td>\n",
       "      <td>2</td>\n",
       "      <td>76</td>\n",
       "      <td>27</td>\n",
       "      <td>14</td>\n",
       "      <td>1</td>\n",
       "      <td>2</td>\n",
       "      <td>1</td>\n",
       "    </tr>\n",
       "    <tr>\n",
       "      <th>...</th>\n",
       "      <td>...</td>\n",
       "      <td>...</td>\n",
       "      <td>...</td>\n",
       "      <td>...</td>\n",
       "      <td>...</td>\n",
       "      <td>...</td>\n",
       "      <td>...</td>\n",
       "      <td>...</td>\n",
       "      <td>...</td>\n",
       "      <td>...</td>\n",
       "    </tr>\n",
       "    <tr>\n",
       "      <th>2686</th>\n",
       "      <td>171</td>\n",
       "      <td>3</td>\n",
       "      <td>0</td>\n",
       "      <td>0</td>\n",
       "      <td>86</td>\n",
       "      <td>4</td>\n",
       "      <td>2</td>\n",
       "      <td>1</td>\n",
       "      <td>0</td>\n",
       "      <td>1</td>\n",
       "    </tr>\n",
       "    <tr>\n",
       "      <th>2687</th>\n",
       "      <td>171</td>\n",
       "      <td>3</td>\n",
       "      <td>0</td>\n",
       "      <td>0</td>\n",
       "      <td>42</td>\n",
       "      <td>4</td>\n",
       "      <td>2</td>\n",
       "      <td>1</td>\n",
       "      <td>2</td>\n",
       "      <td>1</td>\n",
       "    </tr>\n",
       "    <tr>\n",
       "      <th>2688</th>\n",
       "      <td>171</td>\n",
       "      <td>3</td>\n",
       "      <td>0</td>\n",
       "      <td>0</td>\n",
       "      <td>76</td>\n",
       "      <td>27</td>\n",
       "      <td>14</td>\n",
       "      <td>1</td>\n",
       "      <td>2</td>\n",
       "      <td>1</td>\n",
       "    </tr>\n",
       "    <tr>\n",
       "      <th>2689</th>\n",
       "      <td>171</td>\n",
       "      <td>3</td>\n",
       "      <td>0</td>\n",
       "      <td>0</td>\n",
       "      <td>92</td>\n",
       "      <td>23</td>\n",
       "      <td>2</td>\n",
       "      <td>1</td>\n",
       "      <td>2</td>\n",
       "      <td>1</td>\n",
       "    </tr>\n",
       "    <tr>\n",
       "      <th>2690</th>\n",
       "      <td>171</td>\n",
       "      <td>3</td>\n",
       "      <td>0</td>\n",
       "      <td>0</td>\n",
       "      <td>112</td>\n",
       "      <td>27</td>\n",
       "      <td>14</td>\n",
       "      <td>0</td>\n",
       "      <td>1</td>\n",
       "      <td>1</td>\n",
       "    </tr>\n",
       "  </tbody>\n",
       "</table>\n",
       "<p>2691 rows × 10 columns</p>\n",
       "</div>"
      ],
      "text/plain": [
       "      species_name  family  sex  identifier  forage_resource  family.1  \\\n",
       "0                0       3    0           0               91        23   \n",
       "1                1       3    0           0               96        13   \n",
       "2                2       3    0           0              112        27   \n",
       "3                2       3    0           0               91        23   \n",
       "4                3       4    0           2               76        27   \n",
       "...            ...     ...  ...         ...              ...       ...   \n",
       "2686           171       3    0           0               86         4   \n",
       "2687           171       3    0           0               42         4   \n",
       "2688           171       3    0           0               76        27   \n",
       "2689           171       3    0           0               92        23   \n",
       "2690           171       3    0           0              112        27   \n",
       "\n",
       "      life_form  collection_method  grazing_intensity  season  \n",
       "0             9                  1                  1       1  \n",
       "1             6                  1                  2       1  \n",
       "2            14                  0                  2       1  \n",
       "3             9                  1                  2       1  \n",
       "4            14                  1                  2       1  \n",
       "...         ...                ...                ...     ...  \n",
       "2686          2                  1                  0       1  \n",
       "2687          2                  1                  2       1  \n",
       "2688         14                  1                  2       1  \n",
       "2689          2                  1                  2       1  \n",
       "2690         14                  0                  1       1  \n",
       "\n",
       "[2691 rows x 10 columns]"
      ]
     },
     "execution_count": 16,
     "metadata": {},
     "output_type": "execute_result"
    }
   ],
   "source": [
    "df"
   ]
  },
  {
   "cell_type": "code",
   "execution_count": 17,
   "id": "4fb9c0d0",
   "metadata": {
    "execution": {
     "iopub.execute_input": "2024-04-30T17:53:53.404425Z",
     "iopub.status.busy": "2024-04-30T17:53:53.404032Z",
     "iopub.status.idle": "2024-04-30T17:53:53.413098Z",
     "shell.execute_reply": "2024-04-30T17:53:53.412074Z"
    },
    "papermill": {
     "duration": 0.027133,
     "end_time": "2024-04-30T17:53:53.415187",
     "exception": false,
     "start_time": "2024-04-30T17:53:53.388054",
     "status": "completed"
    },
    "tags": []
   },
   "outputs": [
    {
     "data": {
      "text/plain": [
       "species_name         0\n",
       "family               0\n",
       "sex                  0\n",
       "identifier           0\n",
       "forage_resource      0\n",
       "family.1             0\n",
       "life_form            0\n",
       "collection_method    0\n",
       "grazing_intensity    0\n",
       "season               0\n",
       "dtype: int64"
      ]
     },
     "execution_count": 17,
     "metadata": {},
     "output_type": "execute_result"
    }
   ],
   "source": [
    "df.isna().sum()"
   ]
  },
  {
   "cell_type": "markdown",
   "id": "f3143803",
   "metadata": {
    "papermill": {
     "duration": 0.014569,
     "end_time": "2024-04-30T17:53:53.444917",
     "exception": false,
     "start_time": "2024-04-30T17:53:53.430348",
     "status": "completed"
    },
    "tags": []
   },
   "source": [
    "**MODELLING**"
   ]
  },
  {
   "cell_type": "code",
   "execution_count": 18,
   "id": "9f705b2f",
   "metadata": {
    "execution": {
     "iopub.execute_input": "2024-04-30T17:53:53.475883Z",
     "iopub.status.busy": "2024-04-30T17:53:53.475490Z",
     "iopub.status.idle": "2024-04-30T17:53:53.481711Z",
     "shell.execute_reply": "2024-04-30T17:53:53.480567Z"
    },
    "papermill": {
     "duration": 0.024313,
     "end_time": "2024-04-30T17:53:53.483876",
     "exception": false,
     "start_time": "2024-04-30T17:53:53.459563",
     "status": "completed"
    },
    "tags": []
   },
   "outputs": [],
   "source": [
    "X=df[['family','life_form','season']]\n",
    "y=df['sex']"
   ]
  },
  {
   "cell_type": "code",
   "execution_count": 19,
   "id": "2b52f36f",
   "metadata": {
    "execution": {
     "iopub.execute_input": "2024-04-30T17:53:53.515289Z",
     "iopub.status.busy": "2024-04-30T17:53:53.514651Z",
     "iopub.status.idle": "2024-04-30T17:53:53.533707Z",
     "shell.execute_reply": "2024-04-30T17:53:53.532730Z"
    },
    "papermill": {
     "duration": 0.037122,
     "end_time": "2024-04-30T17:53:53.535913",
     "exception": false,
     "start_time": "2024-04-30T17:53:53.498791",
     "status": "completed"
    },
    "tags": []
   },
   "outputs": [
    {
     "name": "stdout",
     "output_type": "stream",
     "text": [
      "Accuracy of Logistic regression classifier on training set: 0.95\n",
      "Accuracy of Logistic regression classifier on test set: 0.95\n"
     ]
    }
   ],
   "source": [
    "X_train, X_test, y_train, y_test = train_test_split(X, y,test_size=0.3, random_state = 0)\n",
    "clf = LogisticRegression(solver='liblinear').fit(X_train, y_train)\n",
    "print('Accuracy of Logistic regression classifier on training set: {:.2f}'.format(clf.score(X_train, y_train)))\n",
    "print('Accuracy of Logistic regression classifier on test set: {:.2f}'.format(clf.score(X_test, y_test)))"
   ]
  },
  {
   "cell_type": "code",
   "execution_count": 20,
   "id": "2ea14e1f",
   "metadata": {
    "execution": {
     "iopub.execute_input": "2024-04-30T17:53:53.567077Z",
     "iopub.status.busy": "2024-04-30T17:53:53.566699Z",
     "iopub.status.idle": "2024-04-30T17:53:53.572027Z",
     "shell.execute_reply": "2024-04-30T17:53:53.571026Z"
    },
    "papermill": {
     "duration": 0.023333,
     "end_time": "2024-04-30T17:53:53.574091",
     "exception": false,
     "start_time": "2024-04-30T17:53:53.550758",
     "status": "completed"
    },
    "tags": []
   },
   "outputs": [],
   "source": [
    "X1=df[['forage_resource','family.1','life_form']]\n",
    "y1=df['collection_method']"
   ]
  },
  {
   "cell_type": "code",
   "execution_count": 21,
   "id": "69e3d29d",
   "metadata": {
    "execution": {
     "iopub.execute_input": "2024-04-30T17:53:53.604984Z",
     "iopub.status.busy": "2024-04-30T17:53:53.604588Z",
     "iopub.status.idle": "2024-04-30T17:53:53.626014Z",
     "shell.execute_reply": "2024-04-30T17:53:53.624872Z"
    },
    "papermill": {
     "duration": 0.039377,
     "end_time": "2024-04-30T17:53:53.628305",
     "exception": false,
     "start_time": "2024-04-30T17:53:53.588928",
     "status": "completed"
    },
    "tags": []
   },
   "outputs": [
    {
     "name": "stdout",
     "output_type": "stream",
     "text": [
      "Accuracy of Logistic regression classifier on training set: 0.98\n",
      "Accuracy of Logistic regression classifier on test set: 0.97\n"
     ]
    }
   ],
   "source": [
    "X_train, X_test, y_train, y_test = train_test_split(X1, y1,test_size=0.3, random_state = 0)\n",
    "clf = LogisticRegression(solver='liblinear').fit(X_train, y_train)\n",
    "print('Accuracy of Logistic regression classifier on training set: {:.2f}'.format(clf.score(X_train, y_train)))\n",
    "print('Accuracy of Logistic regression classifier on test set: {:.2f}'.format(clf.score(X_test, y_test)))"
   ]
  },
  {
   "cell_type": "code",
   "execution_count": 22,
   "id": "a959fec8",
   "metadata": {
    "execution": {
     "iopub.execute_input": "2024-04-30T17:53:53.660151Z",
     "iopub.status.busy": "2024-04-30T17:53:53.659750Z",
     "iopub.status.idle": "2024-04-30T17:53:53.665408Z",
     "shell.execute_reply": "2024-04-30T17:53:53.664416Z"
    },
    "papermill": {
     "duration": 0.023957,
     "end_time": "2024-04-30T17:53:53.667648",
     "exception": false,
     "start_time": "2024-04-30T17:53:53.643691",
     "status": "completed"
    },
    "tags": []
   },
   "outputs": [],
   "source": [
    "X3=df[['species_name']]\n",
    "y3=df[['family']]"
   ]
  },
  {
   "cell_type": "code",
   "execution_count": 23,
   "id": "f144145a",
   "metadata": {
    "execution": {
     "iopub.execute_input": "2024-04-30T17:53:53.700264Z",
     "iopub.status.busy": "2024-04-30T17:53:53.699179Z",
     "iopub.status.idle": "2024-04-30T17:53:53.706077Z",
     "shell.execute_reply": "2024-04-30T17:53:53.705134Z"
    },
    "papermill": {
     "duration": 0.025329,
     "end_time": "2024-04-30T17:53:53.708394",
     "exception": false,
     "start_time": "2024-04-30T17:53:53.683065",
     "status": "completed"
    },
    "tags": []
   },
   "outputs": [],
   "source": [
    "X_train, X_test, y_train, y_test = train_test_split(X3, y3,test_size=0.3, random_state = 0)\n"
   ]
  },
  {
   "cell_type": "code",
   "execution_count": 24,
   "id": "0919e1b7",
   "metadata": {
    "execution": {
     "iopub.execute_input": "2024-04-30T17:53:53.741803Z",
     "iopub.status.busy": "2024-04-30T17:53:53.741054Z",
     "iopub.status.idle": "2024-04-30T17:53:53.978144Z",
     "shell.execute_reply": "2024-04-30T17:53:53.977086Z"
    },
    "papermill": {
     "duration": 0.255974,
     "end_time": "2024-04-30T17:53:53.980377",
     "exception": false,
     "start_time": "2024-04-30T17:53:53.724403",
     "status": "completed"
    },
    "tags": []
   },
   "outputs": [
    {
     "name": "stdout",
     "output_type": "stream",
     "text": [
      "Decision Tree Accuracy: 0.995049504950495\n",
      "Random Forest Accuracy: 0.995049504950495\n"
     ]
    }
   ],
   "source": [
    "# Decision Tree\n",
    "dt_model = DecisionTreeClassifier()\n",
    "dt_model.fit(X_train, y_train.values.ravel())\n",
    "dt_predictions = dt_model.predict(X_test)\n",
    "dt_accuracy = accuracy_score(y_test, dt_predictions)\n",
    "\n",
    "# Random Forest\n",
    "rf_model = RandomForestClassifier()\n",
    "rf_model.fit(X_train, y_train.values.ravel())\n",
    "rf_predictions = rf_model.predict(X_test)\n",
    "rf_accuracy = accuracy_score(y_test, rf_predictions)\n",
    "\n",
    "print(\"Decision Tree Accuracy:\", dt_accuracy)\n",
    "print(\"Random Forest Accuracy:\", rf_accuracy)\n"
   ]
  },
  {
   "cell_type": "markdown",
   "id": "2528a175",
   "metadata": {
    "papermill": {
     "duration": 0.015703,
     "end_time": "2024-04-30T17:53:54.011079",
     "exception": false,
     "start_time": "2024-04-30T17:53:53.995376",
     "status": "completed"
    },
    "tags": []
   },
   "source": [
    "# REMOVING MISSING VALUES"
   ]
  },
  {
   "cell_type": "code",
   "execution_count": 25,
   "id": "b18dac2e",
   "metadata": {
    "execution": {
     "iopub.execute_input": "2024-04-30T17:53:54.043997Z",
     "iopub.status.busy": "2024-04-30T17:53:54.043623Z",
     "iopub.status.idle": "2024-04-30T17:53:54.050139Z",
     "shell.execute_reply": "2024-04-30T17:53:54.049213Z"
    },
    "papermill": {
     "duration": 0.025303,
     "end_time": "2024-04-30T17:53:54.052213",
     "exception": false,
     "start_time": "2024-04-30T17:53:54.026910",
     "status": "completed"
    },
    "tags": []
   },
   "outputs": [],
   "source": [
    "df.dropna(inplace=True)"
   ]
  },
  {
   "cell_type": "code",
   "execution_count": 26,
   "id": "03106b75",
   "metadata": {
    "execution": {
     "iopub.execute_input": "2024-04-30T17:53:54.084114Z",
     "iopub.status.busy": "2024-04-30T17:53:54.083461Z",
     "iopub.status.idle": "2024-04-30T17:53:54.092062Z",
     "shell.execute_reply": "2024-04-30T17:53:54.091068Z"
    },
    "papermill": {
     "duration": 0.027129,
     "end_time": "2024-04-30T17:53:54.094366",
     "exception": false,
     "start_time": "2024-04-30T17:53:54.067237",
     "status": "completed"
    },
    "tags": []
   },
   "outputs": [
    {
     "data": {
      "text/plain": [
       "season\n",
       "1    1479\n",
       "2     707\n",
       "0     505\n",
       "Name: count, dtype: int64"
      ]
     },
     "execution_count": 26,
     "metadata": {},
     "output_type": "execute_result"
    }
   ],
   "source": [
    "df['season'].value_counts()"
   ]
  },
  {
   "cell_type": "code",
   "execution_count": 27,
   "id": "a0d22b36",
   "metadata": {
    "execution": {
     "iopub.execute_input": "2024-04-30T17:53:54.127467Z",
     "iopub.status.busy": "2024-04-30T17:53:54.126721Z",
     "iopub.status.idle": "2024-04-30T17:53:54.134475Z",
     "shell.execute_reply": "2024-04-30T17:53:54.133621Z"
    },
    "papermill": {
     "duration": 0.026352,
     "end_time": "2024-04-30T17:53:54.136501",
     "exception": false,
     "start_time": "2024-04-30T17:53:54.110149",
     "status": "completed"
    },
    "tags": []
   },
   "outputs": [
    {
     "data": {
      "text/plain": [
       "grazing_intensity\n",
       "2    1109\n",
       "0     891\n",
       "1     691\n",
       "Name: count, dtype: int64"
      ]
     },
     "execution_count": 27,
     "metadata": {},
     "output_type": "execute_result"
    }
   ],
   "source": [
    "df['grazing_intensity'].value_counts()"
   ]
  },
  {
   "cell_type": "markdown",
   "id": "cd433d39",
   "metadata": {
    "papermill": {
     "duration": 0.014895,
     "end_time": "2024-04-30T17:53:54.166582",
     "exception": false,
     "start_time": "2024-04-30T17:53:54.151687",
     "status": "completed"
    },
    "tags": []
   },
   "source": [
    "**KMODES AND OPTIMIZATION**"
   ]
  },
  {
   "cell_type": "code",
   "execution_count": 28,
   "id": "55a1ff3a",
   "metadata": {
    "execution": {
     "iopub.execute_input": "2024-04-30T17:53:54.199637Z",
     "iopub.status.busy": "2024-04-30T17:53:54.199288Z",
     "iopub.status.idle": "2024-04-30T17:53:54.211895Z",
     "shell.execute_reply": "2024-04-30T17:53:54.210508Z"
    },
    "papermill": {
     "duration": 0.03211,
     "end_time": "2024-04-30T17:53:54.214703",
     "exception": false,
     "start_time": "2024-04-30T17:53:54.182593",
     "status": "completed"
    },
    "tags": []
   },
   "outputs": [],
   "source": [
    "from kmodes.kmodes import KModes"
   ]
  },
  {
   "cell_type": "code",
   "execution_count": 29,
   "id": "ce56905b",
   "metadata": {
    "execution": {
     "iopub.execute_input": "2024-04-30T17:53:54.247980Z",
     "iopub.status.busy": "2024-04-30T17:53:54.247619Z",
     "iopub.status.idle": "2024-04-30T17:53:54.254480Z",
     "shell.execute_reply": "2024-04-30T17:53:54.253490Z"
    },
    "papermill": {
     "duration": 0.026101,
     "end_time": "2024-04-30T17:53:54.256598",
     "exception": false,
     "start_time": "2024-04-30T17:53:54.230497",
     "status": "completed"
    },
    "tags": []
   },
   "outputs": [],
   "source": [
    "# Subset data for 'fgrazing_intensity'\n",
    "subset_data_family1 = df[['grazing_intensity','family.1', 'species_name', 'sex', 'identifier', 'forage_resource', 'family', 'life_form', 'collection_method', 'season']]\n",
    "\n",
    "\n",
    "# Subset data for 'season'\n",
    "subset_data_family2 = df[['season','grazing_intensity','family.1', 'species_name', 'sex', 'identifier', 'forage_resource', 'family', 'life_form', 'collection_method']]\n"
   ]
  },
  {
   "cell_type": "code",
   "execution_count": 30,
   "id": "d88cbfa3",
   "metadata": {
    "execution": {
     "iopub.execute_input": "2024-04-30T17:53:54.289040Z",
     "iopub.status.busy": "2024-04-30T17:53:54.288649Z",
     "iopub.status.idle": "2024-04-30T17:54:03.252386Z",
     "shell.execute_reply": "2024-04-30T17:54:03.251261Z"
    },
    "papermill": {
     "duration": 8.982894,
     "end_time": "2024-04-30T17:54:03.254999",
     "exception": false,
     "start_time": "2024-04-30T17:53:54.272105",
     "status": "completed"
    },
    "tags": []
   },
   "outputs": [
    {
     "name": "stdout",
     "output_type": "stream",
     "text": [
      "Init: initializing centroids\n",
      "Init: initializing clusters\n",
      "Starting iterations...\n",
      "Run 1, iteration: 1/100, moves: 189, cost: 8766.0\n",
      "Init: initializing centroids\n",
      "Init: initializing clusters\n",
      "Starting iterations...\n",
      "Run 2, iteration: 1/100, moves: 274, cost: 7877.0\n",
      "Init: initializing centroids\n",
      "Init: initializing clusters\n",
      "Starting iterations...\n",
      "Run 3, iteration: 1/100, moves: 997, cost: 8134.0\n",
      "Run 3, iteration: 2/100, moves: 101, cost: 8134.0\n",
      "Init: initializing centroids\n",
      "Init: initializing clusters\n",
      "Starting iterations...\n",
      "Run 4, iteration: 1/100, moves: 100, cost: 8839.0\n",
      "Init: initializing centroids\n",
      "Init: initializing clusters\n",
      "Starting iterations...\n",
      "Run 5, iteration: 1/100, moves: 462, cost: 8726.0\n",
      "Run 5, iteration: 2/100, moves: 344, cost: 8726.0\n",
      "Best run was number 2\n",
      "Init: initializing centroids\n",
      "Init: initializing clusters\n",
      "Starting iterations...\n",
      "Run 1, iteration: 1/100, moves: 441, cost: 8214.0\n",
      "Init: initializing centroids\n",
      "Init: initializing clusters\n",
      "Starting iterations...\n",
      "Run 2, iteration: 1/100, moves: 224, cost: 7972.0\n",
      "Run 2, iteration: 2/100, moves: 1, cost: 7972.0\n",
      "Init: initializing centroids\n",
      "Init: initializing clusters\n",
      "Starting iterations...\n",
      "Run 3, iteration: 1/100, moves: 461, cost: 7861.0\n",
      "Run 3, iteration: 2/100, moves: 217, cost: 7795.0\n",
      "Run 3, iteration: 3/100, moves: 16, cost: 7795.0\n",
      "Init: initializing centroids\n",
      "Init: initializing clusters\n",
      "Starting iterations...\n",
      "Run 4, iteration: 1/100, moves: 816, cost: 8218.0\n",
      "Run 4, iteration: 2/100, moves: 17, cost: 8218.0\n",
      "Init: initializing centroids\n",
      "Init: initializing clusters\n",
      "Starting iterations...\n",
      "Run 5, iteration: 1/100, moves: 871, cost: 7989.0\n",
      "Run 5, iteration: 2/100, moves: 258, cost: 7940.0\n",
      "Run 5, iteration: 3/100, moves: 0, cost: 7940.0\n",
      "Best run was number 3\n"
     ]
    }
   ],
   "source": [
    "# Initialize KModes model for 'grazing_intensity'\n",
    "km_family1 = KModes(n_clusters=3, init='Huang', n_init=5, verbose=1)\n",
    "clusters_family1 = km_family1.fit_predict(subset_data_family1)\n",
    "\n",
    "# Initialize KModes model for 'grazing_intensity'\n",
    "km_family2 = KModes(n_clusters=3, init='Huang', n_init=5, verbose=1)\n",
    "clusters_family2 = km_family2.fit_predict(subset_data_family2)"
   ]
  },
  {
   "cell_type": "code",
   "execution_count": 31,
   "id": "135d6f3e",
   "metadata": {
    "execution": {
     "iopub.execute_input": "2024-04-30T17:54:03.290532Z",
     "iopub.status.busy": "2024-04-30T17:54:03.289787Z",
     "iopub.status.idle": "2024-04-30T17:54:03.294285Z",
     "shell.execute_reply": "2024-04-30T17:54:03.293331Z"
    },
    "papermill": {
     "duration": 0.024978,
     "end_time": "2024-04-30T17:54:03.296915",
     "exception": false,
     "start_time": "2024-04-30T17:54:03.271937",
     "status": "completed"
    },
    "tags": []
   },
   "outputs": [],
   "source": [
    "import matplotlib.pyplot as plt\n",
    "from sklearn import preprocessing\n",
    "from sklearn.metrics import silhouette_score"
   ]
  },
  {
   "cell_type": "code",
   "execution_count": 32,
   "id": "ce28ecf9",
   "metadata": {
    "execution": {
     "iopub.execute_input": "2024-04-30T17:54:03.333332Z",
     "iopub.status.busy": "2024-04-30T17:54:03.332923Z",
     "iopub.status.idle": "2024-04-30T17:54:03.339672Z",
     "shell.execute_reply": "2024-04-30T17:54:03.338636Z"
    },
    "papermill": {
     "duration": 0.027595,
     "end_time": "2024-04-30T17:54:03.341798",
     "exception": false,
     "start_time": "2024-04-30T17:54:03.314203",
     "status": "completed"
    },
    "tags": []
   },
   "outputs": [],
   "source": [
    "# Function to find the optimal number of clusters using the elbow method\n",
    "def find_optimal_clusters(data, max_clusters):\n",
    "    distortions = []\n",
    "    for i in range(1, max_clusters + 1):\n",
    "        km = KModes(n_clusters=i, init='Huang', n_init=5, verbose=0)\n",
    "        km.fit(data)\n",
    "        distortions.append(km.cost_)\n",
    "    plt.plot(range(1, max_clusters + 1), distortions, marker='o')\n",
    "    plt.xlabel('Number of clusters')\n",
    "    plt.ylabel('Distortion')\n",
    "    plt.title('Elbow Method')\n",
    "    plt.show()"
   ]
  },
  {
   "cell_type": "code",
   "execution_count": 33,
   "id": "1043c17d",
   "metadata": {
    "execution": {
     "iopub.execute_input": "2024-04-30T17:54:03.377490Z",
     "iopub.status.busy": "2024-04-30T17:54:03.376713Z",
     "iopub.status.idle": "2024-04-30T17:54:03.385231Z",
     "shell.execute_reply": "2024-04-30T17:54:03.384171Z"
    },
    "papermill": {
     "duration": 0.02873,
     "end_time": "2024-04-30T17:54:03.387297",
     "exception": false,
     "start_time": "2024-04-30T17:54:03.358567",
     "status": "completed"
    },
    "tags": []
   },
   "outputs": [],
   "source": [
    "# Function to compute silhouette scores for different numbers of clusters\n",
    "def compute_silhouette_scores(data, max_clusters):\n",
    "    silhouette_scores = []\n",
    "    for i in range(2, max_clusters + 1):\n",
    "        km = KModes(n_clusters=i, init='Huang', n_init=5, verbose=0)\n",
    "        labels = km.fit_predict(data)\n",
    "        silhouette_scores.append(silhouette_score(data, labels))\n",
    "    plt.plot(range(2, max_clusters + 1), silhouette_scores, marker='o')\n",
    "    plt.xlabel('Number of clusters')\n",
    "    plt.ylabel('Silhouette Score')\n",
    "    plt.title('Silhouette Score Method')\n",
    "    plt.show()"
   ]
  },
  {
   "cell_type": "code",
   "execution_count": 34,
   "id": "f90af16b",
   "metadata": {
    "execution": {
     "iopub.execute_input": "2024-04-30T17:54:03.422427Z",
     "iopub.status.busy": "2024-04-30T17:54:03.421766Z",
     "iopub.status.idle": "2024-04-30T17:54:21.776253Z",
     "shell.execute_reply": "2024-04-30T17:54:21.775189Z"
    },
    "papermill": {
     "duration": 18.375748,
     "end_time": "2024-04-30T17:54:21.779818",
     "exception": false,
     "start_time": "2024-04-30T17:54:03.404070",
     "status": "completed"
    },
    "tags": []
   },
   "outputs": [
    {
     "data": {
      "image/png": "[encoded data removed]",
      "text/plain": [
       "<Figure size 640x480 with 1 Axes>"
      ]
     },
     "metadata": {},
     "output_type": "display_data"
    }
   ],
   "source": [
    "# Find optimal number of clusters for 'grazing_intensity'\n",
    "find_optimal_clusters(subset_data_family1, 5)"
   ]
  },
  {
   "cell_type": "code",
   "execution_count": 35,
   "id": "a88bf999",
   "metadata": {
    "execution": {
     "iopub.execute_input": "2024-04-30T17:54:21.820684Z",
     "iopub.status.busy": "2024-04-30T17:54:21.819729Z",
     "iopub.status.idle": "2024-04-30T17:54:44.217727Z",
     "shell.execute_reply": "2024-04-30T17:54:44.215372Z"
    },
    "papermill": {
     "duration": 22.419199,
     "end_time": "2024-04-30T17:54:44.220153",
     "exception": false,
     "start_time": "2024-04-30T17:54:21.800954",
     "status": "completed"
    },
    "tags": []
   },
   "outputs": [
    {
     "data": {
      "image/png": "[encoded data removed]",
      "text/plain": [
       "<Figure size 640x480 with 1 Axes>"
      ]
     },
     "metadata": {},
     "output_type": "display_data"
    }
   ],
   "source": [
    "# Find optimal number of clusters for 'season'\n",
    "find_optimal_clusters(subset_data_family2, 5)"
   ]
  },
  {
   "cell_type": "code",
   "execution_count": 36,
   "id": "78ff6530",
   "metadata": {
    "execution": {
     "iopub.execute_input": "2024-04-30T17:54:44.257732Z",
     "iopub.status.busy": "2024-04-30T17:54:44.257374Z",
     "iopub.status.idle": "2024-04-30T17:54:44.588830Z",
     "shell.execute_reply": "2024-04-30T17:54:44.587353Z"
    },
    "papermill": {
     "duration": 0.353493,
     "end_time": "2024-04-30T17:54:44.591437",
     "exception": false,
     "start_time": "2024-04-30T17:54:44.237944",
     "status": "completed"
    },
    "tags": []
   },
   "outputs": [],
   "source": [
    "from yellowbrick.cluster import SilhouetteVisualizer\n"
   ]
  },
  {
   "cell_type": "code",
   "execution_count": 37,
   "id": "8ad2157b",
   "metadata": {
    "execution": {
     "iopub.execute_input": "2024-04-30T17:54:44.628511Z",
     "iopub.status.busy": "2024-04-30T17:54:44.628138Z",
     "iopub.status.idle": "2024-04-30T17:55:22.968725Z",
     "shell.execute_reply": "2024-04-30T17:55:22.967665Z"
    },
    "papermill": {
     "duration": 38.36181,
     "end_time": "2024-04-30T17:55:22.971188",
     "exception": false,
     "start_time": "2024-04-30T17:54:44.609378",
     "status": "completed"
    },
    "tags": []
   },
   "outputs": [
    {
     "name": "stdout",
     "output_type": "stream",
     "text": [
      "For n_clusters = 2, the average silhouette score is : 0.4217131962789678\n"
     ]
    },
    {
     "data": {
      "image/png": "[encoded data removed]",
      "text/plain": [
       "<Figure size 800x550 with 1 Axes>"
      ]
     },
     "metadata": {},
     "output_type": "display_data"
    },
    {
     "name": "stdout",
     "output_type": "stream",
     "text": [
      "For n_clusters = 3, the average silhouette score is : 0.12191713856656401\n"
     ]
    },
    {
     "data": {
      "image/png": "[encoded data removed]",
      "text/plain": [
       "<Figure size 800x550 with 1 Axes>"
      ]
     },
     "metadata": {},
     "output_type": "display_data"
    },
    {
     "name": "stdout",
     "output_type": "stream",
     "text": [
      "For n_clusters = 4, the average silhouette score is : 0.11847211831476152\n"
     ]
    },
    {
     "data": {
      "image/png": "[encoded data removed]",
      "text/plain": [
       "<Figure size 800x550 with 1 Axes>"
      ]
     },
     "metadata": {},
     "output_type": "display_data"
    },
    {
     "name": "stdout",
     "output_type": "stream",
     "text": [
      "For n_clusters = 5, the average silhouette score is : 0.010749824756054927\n"
     ]
    },
    {
     "data": {
      "image/png": "[encoded data removed]",
      "text/plain": [
       "<Figure size 800x550 with 1 Axes>"
      ]
     },
     "metadata": {},
     "output_type": "display_data"
    },
    {
     "name": "stdout",
     "output_type": "stream",
     "text": [
      "For n_clusters = 6, the average silhouette score is : -0.10461330893310763\n"
     ]
    },
    {
     "data": {
      "image/png": "[encoded data removed]",
      "text/plain": [
       "<Figure size 800x550 with 1 Axes>"
      ]
     },
     "metadata": {},
     "output_type": "display_data"
    }
   ],
   "source": [
    "cluster_range = range(2, 7)\n",
    "\n",
    "# Plot silhouette scores and visualizations for different cluster numbers\n",
    "for n_clusters in cluster_range:\n",
    "    # KModes clustering\n",
    "    km = KModes(n_clusters=n_clusters, init='Huang', n_init=5, verbose=0)\n",
    "    cluster_labels = km.fit_predict(subset_data_family1)\n",
    "\n",
    "    # Calculate silhouette score\n",
    "    silhouette_avg = silhouette_score(subset_data_family1, cluster_labels)\n",
    "\n",
    "    # Create a SilhouetteVisualizer\n",
    "    visualizer = SilhouetteVisualizer(km, colors='yellowbrick')\n",
    "\n",
    "    # Fit the visualizer\n",
    "    visualizer.fit(subset_data_family1, cluster_labels)\n",
    "\n",
    "    # Show the plot with silhouette score as title\n",
    "    plt.title(f'Silhouette Analysis for {n_clusters} Clusters (Score: {silhouette_avg:.2f})')\n",
    "    print(f\"For n_clusters = {n_clusters}, the average silhouette score is : {silhouette_avg}\")\n",
    "\n",
    "    visualizer.show()"
   ]
  },
  {
   "cell_type": "code",
   "execution_count": 38,
   "id": "30c734fc",
   "metadata": {
    "execution": {
     "iopub.execute_input": "2024-04-30T17:55:23.017694Z",
     "iopub.status.busy": "2024-04-30T17:55:23.016576Z",
     "iopub.status.idle": "2024-04-30T17:55:58.586309Z",
     "shell.execute_reply": "2024-04-30T17:55:58.585225Z"
    },
    "papermill": {
     "duration": 35.599961,
     "end_time": "2024-04-30T17:55:58.593036",
     "exception": false,
     "start_time": "2024-04-30T17:55:22.993075",
     "status": "completed"
    },
    "tags": []
   },
   "outputs": [
    {
     "name": "stdout",
     "output_type": "stream",
     "text": [
      "For n_clusters = 2, the average silhouette score is : 0.4218137438778274\n"
     ]
    },
    {
     "data": {
      "image/png": "[encoded data removed]",
      "text/plain": [
       "<Figure size 800x550 with 1 Axes>"
      ]
     },
     "metadata": {},
     "output_type": "display_data"
    },
    {
     "name": "stdout",
     "output_type": "stream",
     "text": [
      "For n_clusters = 3, the average silhouette score is : 0.2263758095407246\n"
     ]
    },
    {
     "data": {
      "image/png": "[encoded data removed]",
      "text/plain": [
       "<Figure size 800x550 with 1 Axes>"
      ]
     },
     "metadata": {},
     "output_type": "display_data"
    },
    {
     "name": "stdout",
     "output_type": "stream",
     "text": [
      "For n_clusters = 4, the average silhouette score is : 0.01901199808502124\n"
     ]
    },
    {
     "data": {
      "image/png": "[encoded data removed]",
      "text/plain": [
       "<Figure size 800x550 with 1 Axes>"
      ]
     },
     "metadata": {},
     "output_type": "display_data"
    },
    {
     "name": "stdout",
     "output_type": "stream",
     "text": [
      "For n_clusters = 5, the average silhouette score is : -0.055389977742090195\n"
     ]
    },
    {
     "data": {
      "image/png": "[encoded data removed]",
      "text/plain": [
       "<Figure size 800x550 with 1 Axes>"
      ]
     },
     "metadata": {},
     "output_type": "display_data"
    },
    {
     "name": "stdout",
     "output_type": "stream",
     "text": [
      "For n_clusters = 6, the average silhouette score is : 0.10326725347148978\n"
     ]
    },
    {
     "data": {
      "image/png": "[encoded data removed]",
      "text/plain": [
       "<Figure size 800x550 with 1 Axes>"
      ]
     },
     "metadata": {},
     "output_type": "display_data"
    }
   ],
   "source": [
    "cluster_range = range(2, 7)\n",
    "\n",
    "# Plot silhouette scores and visualizations for different cluster numbers\n",
    "for n_clusters in cluster_range:\n",
    "    # KModes clustering\n",
    "    km = KModes(n_clusters=n_clusters, init='Huang', n_init=5, verbose=0)\n",
    "    cluster_labels = km.fit_predict(subset_data_family2)\n",
    "\n",
    "    # Calculate silhouette score\n",
    "    silhouette_avg = silhouette_score(subset_data_family2, cluster_labels)\n",
    "\n",
    "    # Create a SilhouetteVisualizer\n",
    "    visualizer = SilhouetteVisualizer(km, colors='yellowbrick')\n",
    "\n",
    "    # Fit the visualizer\n",
    "    visualizer.fit(subset_data_family2, cluster_labels)\n",
    "\n",
    "    # Show the plot with silhouette score as title\n",
    "    plt.title(f'Silhouette Analysis for {n_clusters} Clusters (Score: {silhouette_avg:.2f})')\n",
    "    print(f\"For n_clusters = {n_clusters}, the average silhouette score is : {silhouette_avg}\")\n",
    "\n",
    "    visualizer.show()"
   ]
  },
  {
   "cell_type": "markdown",
   "id": "1433dfe8",
   "metadata": {
    "papermill": {
     "duration": 0.024648,
     "end_time": "2024-04-30T17:55:58.642818",
     "exception": false,
     "start_time": "2024-04-30T17:55:58.618170",
     "status": "completed"
    },
    "tags": []
   },
   "source": [
    "**WITHOUT CROSS VALIDATION**"
   ]
  },
  {
   "cell_type": "code",
   "execution_count": 39,
   "id": "93051444",
   "metadata": {
    "execution": {
     "iopub.execute_input": "2024-04-30T17:55:58.694780Z",
     "iopub.status.busy": "2024-04-30T17:55:58.694432Z",
     "iopub.status.idle": "2024-04-30T17:55:58.714204Z",
     "shell.execute_reply": "2024-04-30T17:55:58.713099Z"
    },
    "papermill": {
     "duration": 0.048505,
     "end_time": "2024-04-30T17:55:58.716375",
     "exception": false,
     "start_time": "2024-04-30T17:55:58.667870",
     "status": "completed"
    },
    "tags": []
   },
   "outputs": [
    {
     "name": "stdout",
     "output_type": "stream",
     "text": [
      "Accuracy of Logistic regression classifier on training set: 0.95\n",
      "Accuracy of Logistic regression classifier on test set: 0.95\n"
     ]
    }
   ],
   "source": [
    "X=df[['family','life_form','season']]\n",
    "y=df['sex']\n",
    "X_train, X_test, y_train, y_test = train_test_split(X, y,test_size=0.3, random_state = 0)\n",
    "clf = LogisticRegression(solver='liblinear').fit(X_train, y_train)\n",
    "print('Accuracy of Logistic regression classifier on training set: {:.2f}'.format(clf.score(X_train, y_train)))\n",
    "print('Accuracy of Logistic regression classifier on test set: {:.2f}'.format(clf.score(X_test, y_test)))"
   ]
  },
  {
   "cell_type": "code",
   "execution_count": 40,
   "id": "32cd0492",
   "metadata": {
    "execution": {
     "iopub.execute_input": "2024-04-30T17:55:58.768653Z",
     "iopub.status.busy": "2024-04-30T17:55:58.767701Z",
     "iopub.status.idle": "2024-04-30T17:55:58.791417Z",
     "shell.execute_reply": "2024-04-30T17:55:58.790254Z"
    },
    "papermill": {
     "duration": 0.052266,
     "end_time": "2024-04-30T17:55:58.793762",
     "exception": false,
     "start_time": "2024-04-30T17:55:58.741496",
     "status": "completed"
    },
    "tags": []
   },
   "outputs": [
    {
     "name": "stdout",
     "output_type": "stream",
     "text": [
      "Accuracy of Logistic regression classifier on training set: 0.98\n",
      "Accuracy of Logistic regression classifier on test set: 0.97\n"
     ]
    }
   ],
   "source": [
    "X1=df[['forage_resource','family.1','life_form']]\n",
    "y1=df['collection_method']\n",
    "X_train, X_test, y_train, y_test = train_test_split(X1, y1,test_size=0.3, random_state = 0)\n",
    "clf = LogisticRegression(solver='liblinear').fit(X_train, y_train)\n",
    "print('Accuracy of Logistic regression classifier on training set: {:.2f}'.format(clf.score(X_train, y_train)))\n",
    "print('Accuracy of Logistic regression classifier on test set: {:.2f}'.format(clf.score(X_test, y_test)))"
   ]
  },
  {
   "cell_type": "code",
   "execution_count": 41,
   "id": "2993c4ab",
   "metadata": {
    "execution": {
     "iopub.execute_input": "2024-04-30T17:55:58.848067Z",
     "iopub.status.busy": "2024-04-30T17:55:58.847098Z",
     "iopub.status.idle": "2024-04-30T17:55:58.855606Z",
     "shell.execute_reply": "2024-04-30T17:55:58.854886Z"
    },
    "papermill": {
     "duration": 0.037865,
     "end_time": "2024-04-30T17:55:58.857566",
     "exception": false,
     "start_time": "2024-04-30T17:55:58.819701",
     "status": "completed"
    },
    "tags": []
   },
   "outputs": [],
   "source": [
    "X3=df[['species_name']]\n",
    "y3=df[['family']]\n",
    "X_train, X_test, y_train, y_test = train_test_split(X3, y3,test_size=0.3, random_state = 0)\n"
   ]
  },
  {
   "cell_type": "code",
   "execution_count": 42,
   "id": "7ff89ae6",
   "metadata": {
    "execution": {
     "iopub.execute_input": "2024-04-30T17:55:58.908999Z",
     "iopub.status.busy": "2024-04-30T17:55:58.908409Z",
     "iopub.status.idle": "2024-04-30T17:55:59.145342Z",
     "shell.execute_reply": "2024-04-30T17:55:59.144102Z"
    },
    "papermill": {
     "duration": 0.264753,
     "end_time": "2024-04-30T17:55:59.147299",
     "exception": false,
     "start_time": "2024-04-30T17:55:58.882546",
     "status": "completed"
    },
    "tags": []
   },
   "outputs": [
    {
     "name": "stdout",
     "output_type": "stream",
     "text": [
      "Decision Tree Accuracy: 0.995049504950495\n",
      "Random Forest Accuracy: 0.995049504950495\n"
     ]
    }
   ],
   "source": [
    "# Decision Tree\n",
    "dt_model = DecisionTreeClassifier()\n",
    "dt_model.fit(X_train, y_train.values.ravel())\n",
    "dt_predictions = dt_model.predict(X_test)\n",
    "dt_accuracy = accuracy_score(y_test, dt_predictions)\n",
    "\n",
    "# Random Forest\n",
    "rf_model = RandomForestClassifier()\n",
    "rf_model.fit(X_train, y_train.values.ravel())\n",
    "rf_predictions = rf_model.predict(X_test)\n",
    "rf_accuracy = accuracy_score(y_test, rf_predictions)\n",
    "\n",
    "print(\"Decision Tree Accuracy:\", dt_accuracy)\n",
    "print(\"Random Forest Accuracy:\", rf_accuracy)\n"
   ]
  },
  {
   "cell_type": "markdown",
   "id": "79dfd979",
   "metadata": {
    "papermill": {
     "duration": 0.024721,
     "end_time": "2024-04-30T17:55:59.197026",
     "exception": false,
     "start_time": "2024-04-30T17:55:59.172305",
     "status": "completed"
    },
    "tags": []
   },
   "source": [
    "**WITH CROSS VALIDATION**"
   ]
  },
  {
   "cell_type": "code",
   "execution_count": 43,
   "id": "2126af01",
   "metadata": {
    "execution": {
     "iopub.execute_input": "2024-04-30T17:55:59.249198Z",
     "iopub.status.busy": "2024-04-30T17:55:59.248247Z",
     "iopub.status.idle": "2024-04-30T17:55:59.313108Z",
     "shell.execute_reply": "2024-04-30T17:55:59.311922Z"
    },
    "papermill": {
     "duration": 0.093242,
     "end_time": "2024-04-30T17:55:59.315340",
     "exception": false,
     "start_time": "2024-04-30T17:55:59.222098",
     "status": "completed"
    },
    "tags": []
   },
   "outputs": [
    {
     "name": "stdout",
     "output_type": "stream",
     "text": [
      "Cross-validation scores: [0.94805195 0.94981413 0.94981413 0.94795539 0.89962825]\n",
      "Mean cross-validation score: 0.94\n",
      "Accuracy of Logistic regression classifier on training set: 0.95\n",
      "Accuracy of Logistic regression classifier on test set: 0.95\n"
     ]
    }
   ],
   "source": [
    "from sklearn.model_selection import cross_val_score\n",
    "\n",
    "# Define your features and target variable\n",
    "X = df[['family', 'life_form', 'season']]\n",
    "y = df['sex']\n",
    "\n",
    "# Create Logistic Regression model\n",
    "clf = LogisticRegression(solver='liblinear')\n",
    "\n",
    "# Perform 5-fold cross-validation\n",
    "cv_scores = cross_val_score(clf, X, y, cv=5)\n",
    "\n",
    "# Print cross-validation scores\n",
    "print('Cross-validation scores:', cv_scores)\n",
    "print('Mean cross-validation score: {:.2f}'.format(cv_scores.mean()))\n",
    "\n",
    "# Split data into training and test sets\n",
    "X_train, X_test, y_train, y_test = train_test_split(X, y, test_size=0.3, random_state=0)\n",
    "\n",
    "# Train the model on the training set\n",
    "clf.fit(X_train, y_train)\n",
    "\n",
    "# Print accuracy on training set\n",
    "print('Accuracy of Logistic regression classifier on training set: {:.2f}'.format(clf.score(X_train, y_train)))\n",
    "\n",
    "# Print accuracy on test set\n",
    "print('Accuracy of Logistic regression classifier on test set: {:.2f}'.format(clf.score(X_test, y_test)))\n"
   ]
  },
  {
   "cell_type": "code",
   "execution_count": 44,
   "id": "a8d18b71",
   "metadata": {
    "execution": {
     "iopub.execute_input": "2024-04-30T17:55:59.370408Z",
     "iopub.status.busy": "2024-04-30T17:55:59.369762Z",
     "iopub.status.idle": "2024-04-30T17:55:59.445216Z",
     "shell.execute_reply": "2024-04-30T17:55:59.444024Z"
    },
    "papermill": {
     "duration": 0.105865,
     "end_time": "2024-04-30T17:55:59.447410",
     "exception": false,
     "start_time": "2024-04-30T17:55:59.341545",
     "status": "completed"
    },
    "tags": []
   },
   "outputs": [
    {
     "name": "stdout",
     "output_type": "stream",
     "text": [
      "Cross-validation scores: [0.97588126 0.98327138 0.99442379 0.96096654 0.97769517]\n",
      "Mean cross-validation score: 0.98\n",
      "Accuracy of Logistic regression classifier on training set: 0.98\n",
      "Accuracy of Logistic regression classifier on test set: 0.97\n"
     ]
    }
   ],
   "source": [
    "# Define your features and target variable\n",
    "X1 = df[['forage_resource', 'family.1', 'life_form']]\n",
    "y1 = df['collection_method']\n",
    "\n",
    "# Create Logistic Regression model\n",
    "clf = LogisticRegression(solver='liblinear')\n",
    "\n",
    "# Perform 5-fold cross-validation\n",
    "cv_scores = cross_val_score(clf, X1, y1, cv=5)\n",
    "\n",
    "# Print cross-validation scores\n",
    "print('Cross-validation scores:', cv_scores)\n",
    "print('Mean cross-validation score: {:.2f}'.format(cv_scores.mean()))\n",
    "\n",
    "# Split data into training and test sets\n",
    "X_train, X_test, y_train, y_test = train_test_split(X1, y1, test_size=0.3, random_state=0)\n",
    "\n",
    "# Train the model on the training set\n",
    "clf.fit(X_train, y_train)\n",
    "\n",
    "# Print accuracy on training set\n",
    "print('Accuracy of Logistic regression classifier on training set: {:.2f}'.format(clf.score(X_train, y_train)))\n",
    "\n",
    "# Print accuracy on test set\n",
    "print('Accuracy of Logistic regression classifier on test set: {:.2f}'.format(clf.score(X_test, y_test)))\n"
   ]
  },
  {
   "cell_type": "code",
   "execution_count": 45,
   "id": "2e809b9b",
   "metadata": {
    "execution": {
     "iopub.execute_input": "2024-04-30T17:55:59.502193Z",
     "iopub.status.busy": "2024-04-30T17:55:59.501803Z",
     "iopub.status.idle": "2024-04-30T17:56:00.868115Z",
     "shell.execute_reply": "2024-04-30T17:56:00.867019Z"
    },
    "papermill": {
     "duration": 1.396478,
     "end_time": "2024-04-30T17:56:00.870309",
     "exception": false,
     "start_time": "2024-04-30T17:55:59.473831",
     "status": "completed"
    },
    "tags": []
   },
   "outputs": [
    {
     "name": "stdout",
     "output_type": "stream",
     "text": [
      "Decision Tree Cross-Validation Accuracy: 0.778519356373844\n",
      "Random Forest Cross-Validation Accuracy: 0.778519356373844\n",
      "Decision Tree Test Accuracy: 0.995049504950495\n",
      "Random Forest Test Accuracy: 0.995049504950495\n"
     ]
    }
   ],
   "source": [
    "# Define your features and target variable\n",
    "X3 = df[['species_name']]\n",
    "y3 = df['family']\n",
    "\n",
    "# Decision Tree\n",
    "dt_model = DecisionTreeClassifier()\n",
    "dt_scores = cross_val_score(dt_model, X3, y3, cv=5)\n",
    "dt_accuracy = dt_scores.mean()\n",
    "\n",
    "# Random Forest\n",
    "rf_model = RandomForestClassifier()\n",
    "rf_scores = cross_val_score(rf_model, X3, y3, cv=5)\n",
    "rf_accuracy = rf_scores.mean()\n",
    "\n",
    "print(\"Decision Tree Cross-Validation Accuracy:\", dt_accuracy)\n",
    "print(\"Random Forest Cross-Validation Accuracy:\", rf_accuracy)\n",
    "\n",
    "# Split data into training and test sets\n",
    "X_train, X_test, y_train, y_test = train_test_split(X3, y3, test_size=0.3, random_state=0)\n",
    "\n",
    "# Decision Tree\n",
    "dt_model.fit(X_train, y_train)\n",
    "dt_predictions = dt_model.predict(X_test)\n",
    "dt_accuracy_test = accuracy_score(y_test, dt_predictions)\n",
    "\n",
    "# Random Forest\n",
    "rf_model.fit(X_train, y_train)\n",
    "rf_predictions = rf_model.predict(X_test)\n",
    "rf_accuracy_test = accuracy_score(y_test, rf_predictions)\n",
    "\n",
    "print(\"Decision Tree Test Accuracy:\", dt_accuracy_test)\n",
    "print(\"Random Forest Test Accuracy:\", rf_accuracy_test)\n"
   ]
  },
  {
   "cell_type": "markdown",
   "id": "4e4e7cc2",
   "metadata": {
    "papermill": {
     "duration": 0.024969,
     "end_time": "2024-04-30T17:56:00.920910",
     "exception": false,
     "start_time": "2024-04-30T17:56:00.895941",
     "status": "completed"
    },
    "tags": []
   },
   "source": [
    "# **TRYING SPECIES NAME CLASSIFICATION**"
   ]
  },
  {
   "cell_type": "code",
   "execution_count": 46,
   "id": "33f8231a",
   "metadata": {
    "execution": {
     "iopub.execute_input": "2024-04-30T17:56:00.973714Z",
     "iopub.status.busy": "2024-04-30T17:56:00.973059Z",
     "iopub.status.idle": "2024-04-30T17:56:01.790512Z",
     "shell.execute_reply": "2024-04-30T17:56:01.789708Z"
    },
    "papermill": {
     "duration": 0.846164,
     "end_time": "2024-04-30T17:56:01.792563",
     "exception": false,
     "start_time": "2024-04-30T17:56:00.946399",
     "status": "completed"
    },
    "tags": []
   },
   "outputs": [
    {
     "data": {
      "text/html": [
       "<div>\n",
       "<style scoped>\n",
       "    .dataframe tbody tr th:only-of-type {\n",
       "        vertical-align: middle;\n",
       "    }\n",
       "\n",
       "    .dataframe tbody tr th {\n",
       "        vertical-align: top;\n",
       "    }\n",
       "\n",
       "    .dataframe thead th {\n",
       "        text-align: right;\n",
       "    }\n",
       "</style>\n",
       "<table border=\"1\" class=\"dataframe\">\n",
       "  <thead>\n",
       "    <tr style=\"text-align: right;\">\n",
       "      <th></th>\n",
       "      <th>S/No</th>\n",
       "      <th>species_name</th>\n",
       "      <th>family</th>\n",
       "      <th>sex</th>\n",
       "      <th>identifier</th>\n",
       "      <th>dec_long (decimal degrees)</th>\n",
       "      <th>dec_lat (decimal degrees)</th>\n",
       "      <th>elevation (m a.s.l.)</th>\n",
       "      <th>MAT (°C)</th>\n",
       "      <th>date_of_collection</th>\n",
       "      <th>forage_resource</th>\n",
       "      <th>family.1</th>\n",
       "      <th>life_form</th>\n",
       "      <th>collection_method</th>\n",
       "      <th>grazing_intensity</th>\n",
       "      <th>season</th>\n",
       "    </tr>\n",
       "  </thead>\n",
       "  <tbody>\n",
       "    <tr>\n",
       "      <th>0</th>\n",
       "      <td>1</td>\n",
       "      <td>Acunomia senticosa (Vachal 1897)</td>\n",
       "      <td>Halictidae</td>\n",
       "      <td>Female</td>\n",
       "      <td>A. Pauly</td>\n",
       "      <td>36.0478</td>\n",
       "      <td>-3.5657</td>\n",
       "      <td>1065</td>\n",
       "      <td>23.717757</td>\n",
       "      <td>2019-12-22</td>\n",
       "      <td>Solanum incanum L.</td>\n",
       "      <td>Solanaceae</td>\n",
       "      <td>Perennial shrub</td>\n",
       "      <td>sweep net</td>\n",
       "      <td>low grazing intensity</td>\n",
       "      <td>long_rain</td>\n",
       "    </tr>\n",
       "    <tr>\n",
       "      <th>1</th>\n",
       "      <td>2</td>\n",
       "      <td>Acunomia somalica (Friese 1908)</td>\n",
       "      <td>Halictidae</td>\n",
       "      <td>Female</td>\n",
       "      <td>A. Pauly</td>\n",
       "      <td>37.5968</td>\n",
       "      <td>-3.3682</td>\n",
       "      <td>940</td>\n",
       "      <td>23.350731</td>\n",
       "      <td>2020-01-08</td>\n",
       "      <td>Tephrosia densiflora Hook.f.</td>\n",
       "      <td>Fabaceae</td>\n",
       "      <td>Perennial herb</td>\n",
       "      <td>sweep net</td>\n",
       "      <td>medium grazing intensity</td>\n",
       "      <td>long_rain</td>\n",
       "    </tr>\n",
       "    <tr>\n",
       "      <th>2</th>\n",
       "      <td>3</td>\n",
       "      <td>Acunomia theryi (Gribodo, 1894)</td>\n",
       "      <td>Halictidae</td>\n",
       "      <td>Female</td>\n",
       "      <td>A. Pauly</td>\n",
       "      <td>37.0264</td>\n",
       "      <td>-3.1259</td>\n",
       "      <td>1380</td>\n",
       "      <td>19.753428</td>\n",
       "      <td>2020-01-02</td>\n",
       "      <td>NaN</td>\n",
       "      <td>NaN</td>\n",
       "      <td>NaN</td>\n",
       "      <td>pan trap</td>\n",
       "      <td>medium grazing intensity</td>\n",
       "      <td>long_rain</td>\n",
       "    </tr>\n",
       "    <tr>\n",
       "      <th>3</th>\n",
       "      <td>4</td>\n",
       "      <td>Acunomia theryi (Gribodo, 1894)</td>\n",
       "      <td>Halictidae</td>\n",
       "      <td>Female</td>\n",
       "      <td>A. Pauly</td>\n",
       "      <td>37.0264</td>\n",
       "      <td>-3.1259</td>\n",
       "      <td>1380</td>\n",
       "      <td>19.753428</td>\n",
       "      <td>2020-01-02</td>\n",
       "      <td>Solanum incanum L.</td>\n",
       "      <td>Solanaceae</td>\n",
       "      <td>Perennial shrub</td>\n",
       "      <td>sweep net</td>\n",
       "      <td>medium grazing intensity</td>\n",
       "      <td>long_rain</td>\n",
       "    </tr>\n",
       "    <tr>\n",
       "      <th>4</th>\n",
       "      <td>5</td>\n",
       "      <td>Afranthidium indet1</td>\n",
       "      <td>Megachilidae</td>\n",
       "      <td>Female</td>\n",
       "      <td>J. Lasway</td>\n",
       "      <td>36.7848</td>\n",
       "      <td>-3.4002</td>\n",
       "      <td>1216</td>\n",
       "      <td>21.161605</td>\n",
       "      <td>2019-12-26</td>\n",
       "      <td>On air</td>\n",
       "      <td>NaN</td>\n",
       "      <td>NaN</td>\n",
       "      <td>sweep net</td>\n",
       "      <td>medium grazing intensity</td>\n",
       "      <td>long_rain</td>\n",
       "    </tr>\n",
       "    <tr>\n",
       "      <th>...</th>\n",
       "      <td>...</td>\n",
       "      <td>...</td>\n",
       "      <td>...</td>\n",
       "      <td>...</td>\n",
       "      <td>...</td>\n",
       "      <td>...</td>\n",
       "      <td>...</td>\n",
       "      <td>...</td>\n",
       "      <td>...</td>\n",
       "      <td>...</td>\n",
       "      <td>...</td>\n",
       "      <td>...</td>\n",
       "      <td>...</td>\n",
       "      <td>...</td>\n",
       "      <td>...</td>\n",
       "      <td>...</td>\n",
       "    </tr>\n",
       "    <tr>\n",
       "      <th>2686</th>\n",
       "      <td>2687</td>\n",
       "      <td>Zonalictus nomioides (Friese, 1905)</td>\n",
       "      <td>Halictidae</td>\n",
       "      <td>Female</td>\n",
       "      <td>A. Pauly</td>\n",
       "      <td>36.4956</td>\n",
       "      <td>-3.4079</td>\n",
       "      <td>1330</td>\n",
       "      <td>21.397900</td>\n",
       "      <td>2019-12-26</td>\n",
       "      <td>Schkuhria pinnata (Lam.) Kuntze</td>\n",
       "      <td>Asteraceae</td>\n",
       "      <td>Annual herb</td>\n",
       "      <td>sweep net</td>\n",
       "      <td>high grazing intensity</td>\n",
       "      <td>long_rain</td>\n",
       "    </tr>\n",
       "    <tr>\n",
       "      <th>2687</th>\n",
       "      <td>2688</td>\n",
       "      <td>Zonalictus nomioides (Friese, 1905)</td>\n",
       "      <td>Halictidae</td>\n",
       "      <td>Female</td>\n",
       "      <td>A. Pauly</td>\n",
       "      <td>37.0264</td>\n",
       "      <td>-3.1259</td>\n",
       "      <td>1380</td>\n",
       "      <td>19.753428</td>\n",
       "      <td>2020-01-02</td>\n",
       "      <td>Gutenbergia cordifolia Benth. ex Oliv.</td>\n",
       "      <td>Asteraceae</td>\n",
       "      <td>Annual herb</td>\n",
       "      <td>sweep net</td>\n",
       "      <td>medium grazing intensity</td>\n",
       "      <td>long_rain</td>\n",
       "    </tr>\n",
       "    <tr>\n",
       "      <th>2688</th>\n",
       "      <td>2689</td>\n",
       "      <td>Zonalictus nomioides (Friese, 1905)</td>\n",
       "      <td>Halictidae</td>\n",
       "      <td>Female</td>\n",
       "      <td>A. Pauly</td>\n",
       "      <td>37.0264</td>\n",
       "      <td>-3.1259</td>\n",
       "      <td>1380</td>\n",
       "      <td>19.753428</td>\n",
       "      <td>2020-01-02</td>\n",
       "      <td>On air</td>\n",
       "      <td>NaN</td>\n",
       "      <td>NaN</td>\n",
       "      <td>sweep net</td>\n",
       "      <td>medium grazing intensity</td>\n",
       "      <td>long_rain</td>\n",
       "    </tr>\n",
       "    <tr>\n",
       "      <th>2689</th>\n",
       "      <td>2690</td>\n",
       "      <td>Zonalictus nomioides (Friese, 1905)</td>\n",
       "      <td>Halictidae</td>\n",
       "      <td>Female</td>\n",
       "      <td>A. Pauly</td>\n",
       "      <td>36.5838</td>\n",
       "      <td>-3.3562</td>\n",
       "      <td>1441</td>\n",
       "      <td>20.204674</td>\n",
       "      <td>2019-12-26</td>\n",
       "      <td>Solanum lycopersicum L.</td>\n",
       "      <td>Solanaceae</td>\n",
       "      <td>Annual herb</td>\n",
       "      <td>sweep net</td>\n",
       "      <td>medium grazing intensity</td>\n",
       "      <td>long_rain</td>\n",
       "    </tr>\n",
       "    <tr>\n",
       "      <th>2690</th>\n",
       "      <td>2691</td>\n",
       "      <td>Zonalictus nomioides (Friese, 1905)</td>\n",
       "      <td>Halictidae</td>\n",
       "      <td>Female</td>\n",
       "      <td>A. Pauly</td>\n",
       "      <td>36.8663</td>\n",
       "      <td>-3.2372</td>\n",
       "      <td>1576</td>\n",
       "      <td>19.169354</td>\n",
       "      <td>2019-12-28</td>\n",
       "      <td>NaN</td>\n",
       "      <td>NaN</td>\n",
       "      <td>NaN</td>\n",
       "      <td>pan trap</td>\n",
       "      <td>low grazing intensity</td>\n",
       "      <td>long_rain</td>\n",
       "    </tr>\n",
       "  </tbody>\n",
       "</table>\n",
       "<p>2691 rows × 16 columns</p>\n",
       "</div>"
      ],
      "text/plain": [
       "      S/No                         species_name        family     sex  \\\n",
       "0        1     Acunomia senticosa (Vachal 1897)    Halictidae  Female   \n",
       "1        2      Acunomia somalica (Friese 1908)    Halictidae  Female   \n",
       "2        3      Acunomia theryi (Gribodo, 1894)    Halictidae  Female   \n",
       "3        4      Acunomia theryi (Gribodo, 1894)    Halictidae  Female   \n",
       "4        5                  Afranthidium indet1  Megachilidae  Female   \n",
       "...    ...                                  ...           ...     ...   \n",
       "2686  2687  Zonalictus nomioides (Friese, 1905)    Halictidae  Female   \n",
       "2687  2688  Zonalictus nomioides (Friese, 1905)    Halictidae  Female   \n",
       "2688  2689  Zonalictus nomioides (Friese, 1905)    Halictidae  Female   \n",
       "2689  2690  Zonalictus nomioides (Friese, 1905)    Halictidae  Female   \n",
       "2690  2691  Zonalictus nomioides (Friese, 1905)    Halictidae  Female   \n",
       "\n",
       "     identifier  dec_long (decimal degrees)  dec_lat (decimal degrees)  \\\n",
       "0      A. Pauly                     36.0478                    -3.5657   \n",
       "1      A. Pauly                     37.5968                    -3.3682   \n",
       "2      A. Pauly                     37.0264                    -3.1259   \n",
       "3      A. Pauly                     37.0264                    -3.1259   \n",
       "4     J. Lasway                     36.7848                    -3.4002   \n",
       "...         ...                         ...                        ...   \n",
       "2686   A. Pauly                     36.4956                    -3.4079   \n",
       "2687   A. Pauly                     37.0264                    -3.1259   \n",
       "2688   A. Pauly                     37.0264                    -3.1259   \n",
       "2689   A. Pauly                     36.5838                    -3.3562   \n",
       "2690   A. Pauly                     36.8663                    -3.2372   \n",
       "\n",
       "      elevation (m a.s.l.)   MAT (°C) date_of_collection  \\\n",
       "0                     1065  23.717757         2019-12-22   \n",
       "1                      940  23.350731         2020-01-08   \n",
       "2                     1380  19.753428         2020-01-02   \n",
       "3                     1380  19.753428         2020-01-02   \n",
       "4                     1216  21.161605         2019-12-26   \n",
       "...                    ...        ...                ...   \n",
       "2686                  1330  21.397900         2019-12-26   \n",
       "2687                  1380  19.753428         2020-01-02   \n",
       "2688                  1380  19.753428         2020-01-02   \n",
       "2689                  1441  20.204674         2019-12-26   \n",
       "2690                  1576  19.169354         2019-12-28   \n",
       "\n",
       "                             forage_resource    family.1        life_form  \\\n",
       "0                         Solanum incanum L.  Solanaceae  Perennial shrub   \n",
       "1               Tephrosia densiflora Hook.f.    Fabaceae   Perennial herb   \n",
       "2                                        NaN         NaN              NaN   \n",
       "3                         Solanum incanum L.  Solanaceae  Perennial shrub   \n",
       "4                                     On air         NaN              NaN   \n",
       "...                                      ...         ...              ...   \n",
       "2686         Schkuhria pinnata (Lam.) Kuntze  Asteraceae      Annual herb   \n",
       "2687  Gutenbergia cordifolia Benth. ex Oliv.  Asteraceae      Annual herb   \n",
       "2688                                  On air         NaN              NaN   \n",
       "2689                 Solanum lycopersicum L.  Solanaceae      Annual herb   \n",
       "2690                                     NaN         NaN              NaN   \n",
       "\n",
       "     collection_method         grazing_intensity     season  \n",
       "0            sweep net     low grazing intensity  long_rain  \n",
       "1            sweep net  medium grazing intensity  long_rain  \n",
       "2             pan trap  medium grazing intensity  long_rain  \n",
       "3            sweep net  medium grazing intensity  long_rain  \n",
       "4            sweep net  medium grazing intensity  long_rain  \n",
       "...                ...                       ...        ...  \n",
       "2686         sweep net    high grazing intensity  long_rain  \n",
       "2687         sweep net  medium grazing intensity  long_rain  \n",
       "2688         sweep net  medium grazing intensity  long_rain  \n",
       "2689         sweep net  medium grazing intensity  long_rain  \n",
       "2690          pan trap     low grazing intensity  long_rain  \n",
       "\n",
       "[2691 rows x 16 columns]"
      ]
     },
     "execution_count": 46,
     "metadata": {},
     "output_type": "execute_result"
    }
   ],
   "source": [
    "df1=pd.read_excel('/kaggle/input/beeplant/bee-plant interaction dataset.xlsx')\n",
    "df1"
   ]
  },
  {
   "cell_type": "code",
   "execution_count": 47,
   "id": "0dbceb61",
   "metadata": {
    "execution": {
     "iopub.execute_input": "2024-04-30T17:56:01.846084Z",
     "iopub.status.busy": "2024-04-30T17:56:01.845703Z",
     "iopub.status.idle": "2024-04-30T17:56:01.865334Z",
     "shell.execute_reply": "2024-04-30T17:56:01.864501Z"
    },
    "papermill": {
     "duration": 0.048825,
     "end_time": "2024-04-30T17:56:01.867314",
     "exception": false,
     "start_time": "2024-04-30T17:56:01.818489",
     "status": "completed"
    },
    "tags": []
   },
   "outputs": [
    {
     "data": {
      "text/html": [
       "<div>\n",
       "<style scoped>\n",
       "    .dataframe tbody tr th:only-of-type {\n",
       "        vertical-align: middle;\n",
       "    }\n",
       "\n",
       "    .dataframe tbody tr th {\n",
       "        vertical-align: top;\n",
       "    }\n",
       "\n",
       "    .dataframe thead th {\n",
       "        text-align: right;\n",
       "    }\n",
       "</style>\n",
       "<table border=\"1\" class=\"dataframe\">\n",
       "  <thead>\n",
       "    <tr style=\"text-align: right;\">\n",
       "      <th></th>\n",
       "      <th>species_name</th>\n",
       "      <th>family</th>\n",
       "      <th>sex</th>\n",
       "      <th>identifier</th>\n",
       "      <th>dec_long (decimal degrees)</th>\n",
       "      <th>dec_lat (decimal degrees)</th>\n",
       "      <th>elevation (m a.s.l.)</th>\n",
       "      <th>MAT (°C)</th>\n",
       "      <th>forage_resource</th>\n",
       "      <th>family.1</th>\n",
       "      <th>life_form</th>\n",
       "      <th>collection_method</th>\n",
       "      <th>grazing_intensity</th>\n",
       "      <th>season</th>\n",
       "    </tr>\n",
       "  </thead>\n",
       "  <tbody>\n",
       "    <tr>\n",
       "      <th>0</th>\n",
       "      <td>Acunomia senticosa (Vachal 1897)</td>\n",
       "      <td>Halictidae</td>\n",
       "      <td>Female</td>\n",
       "      <td>A. Pauly</td>\n",
       "      <td>36.0478</td>\n",
       "      <td>-3.5657</td>\n",
       "      <td>1065</td>\n",
       "      <td>23.717757</td>\n",
       "      <td>Solanum incanum L.</td>\n",
       "      <td>Solanaceae</td>\n",
       "      <td>Perennial shrub</td>\n",
       "      <td>sweep net</td>\n",
       "      <td>low grazing intensity</td>\n",
       "      <td>long_rain</td>\n",
       "    </tr>\n",
       "    <tr>\n",
       "      <th>1</th>\n",
       "      <td>Acunomia somalica (Friese 1908)</td>\n",
       "      <td>Halictidae</td>\n",
       "      <td>Female</td>\n",
       "      <td>A. Pauly</td>\n",
       "      <td>37.5968</td>\n",
       "      <td>-3.3682</td>\n",
       "      <td>940</td>\n",
       "      <td>23.350731</td>\n",
       "      <td>Tephrosia densiflora Hook.f.</td>\n",
       "      <td>Fabaceae</td>\n",
       "      <td>Perennial herb</td>\n",
       "      <td>sweep net</td>\n",
       "      <td>medium grazing intensity</td>\n",
       "      <td>long_rain</td>\n",
       "    </tr>\n",
       "    <tr>\n",
       "      <th>2</th>\n",
       "      <td>Acunomia theryi (Gribodo, 1894)</td>\n",
       "      <td>Halictidae</td>\n",
       "      <td>Female</td>\n",
       "      <td>A. Pauly</td>\n",
       "      <td>37.0264</td>\n",
       "      <td>-3.1259</td>\n",
       "      <td>1380</td>\n",
       "      <td>19.753428</td>\n",
       "      <td>NaN</td>\n",
       "      <td>NaN</td>\n",
       "      <td>NaN</td>\n",
       "      <td>pan trap</td>\n",
       "      <td>medium grazing intensity</td>\n",
       "      <td>long_rain</td>\n",
       "    </tr>\n",
       "    <tr>\n",
       "      <th>3</th>\n",
       "      <td>Acunomia theryi (Gribodo, 1894)</td>\n",
       "      <td>Halictidae</td>\n",
       "      <td>Female</td>\n",
       "      <td>A. Pauly</td>\n",
       "      <td>37.0264</td>\n",
       "      <td>-3.1259</td>\n",
       "      <td>1380</td>\n",
       "      <td>19.753428</td>\n",
       "      <td>Solanum incanum L.</td>\n",
       "      <td>Solanaceae</td>\n",
       "      <td>Perennial shrub</td>\n",
       "      <td>sweep net</td>\n",
       "      <td>medium grazing intensity</td>\n",
       "      <td>long_rain</td>\n",
       "    </tr>\n",
       "    <tr>\n",
       "      <th>4</th>\n",
       "      <td>Afranthidium indet1</td>\n",
       "      <td>Megachilidae</td>\n",
       "      <td>Female</td>\n",
       "      <td>J. Lasway</td>\n",
       "      <td>36.7848</td>\n",
       "      <td>-3.4002</td>\n",
       "      <td>1216</td>\n",
       "      <td>21.161605</td>\n",
       "      <td>On air</td>\n",
       "      <td>NaN</td>\n",
       "      <td>NaN</td>\n",
       "      <td>sweep net</td>\n",
       "      <td>medium grazing intensity</td>\n",
       "      <td>long_rain</td>\n",
       "    </tr>\n",
       "    <tr>\n",
       "      <th>...</th>\n",
       "      <td>...</td>\n",
       "      <td>...</td>\n",
       "      <td>...</td>\n",
       "      <td>...</td>\n",
       "      <td>...</td>\n",
       "      <td>...</td>\n",
       "      <td>...</td>\n",
       "      <td>...</td>\n",
       "      <td>...</td>\n",
       "      <td>...</td>\n",
       "      <td>...</td>\n",
       "      <td>...</td>\n",
       "      <td>...</td>\n",
       "      <td>...</td>\n",
       "    </tr>\n",
       "    <tr>\n",
       "      <th>2686</th>\n",
       "      <td>Zonalictus nomioides (Friese, 1905)</td>\n",
       "      <td>Halictidae</td>\n",
       "      <td>Female</td>\n",
       "      <td>A. Pauly</td>\n",
       "      <td>36.4956</td>\n",
       "      <td>-3.4079</td>\n",
       "      <td>1330</td>\n",
       "      <td>21.397900</td>\n",
       "      <td>Schkuhria pinnata (Lam.) Kuntze</td>\n",
       "      <td>Asteraceae</td>\n",
       "      <td>Annual herb</td>\n",
       "      <td>sweep net</td>\n",
       "      <td>high grazing intensity</td>\n",
       "      <td>long_rain</td>\n",
       "    </tr>\n",
       "    <tr>\n",
       "      <th>2687</th>\n",
       "      <td>Zonalictus nomioides (Friese, 1905)</td>\n",
       "      <td>Halictidae</td>\n",
       "      <td>Female</td>\n",
       "      <td>A. Pauly</td>\n",
       "      <td>37.0264</td>\n",
       "      <td>-3.1259</td>\n",
       "      <td>1380</td>\n",
       "      <td>19.753428</td>\n",
       "      <td>Gutenbergia cordifolia Benth. ex Oliv.</td>\n",
       "      <td>Asteraceae</td>\n",
       "      <td>Annual herb</td>\n",
       "      <td>sweep net</td>\n",
       "      <td>medium grazing intensity</td>\n",
       "      <td>long_rain</td>\n",
       "    </tr>\n",
       "    <tr>\n",
       "      <th>2688</th>\n",
       "      <td>Zonalictus nomioides (Friese, 1905)</td>\n",
       "      <td>Halictidae</td>\n",
       "      <td>Female</td>\n",
       "      <td>A. Pauly</td>\n",
       "      <td>37.0264</td>\n",
       "      <td>-3.1259</td>\n",
       "      <td>1380</td>\n",
       "      <td>19.753428</td>\n",
       "      <td>On air</td>\n",
       "      <td>NaN</td>\n",
       "      <td>NaN</td>\n",
       "      <td>sweep net</td>\n",
       "      <td>medium grazing intensity</td>\n",
       "      <td>long_rain</td>\n",
       "    </tr>\n",
       "    <tr>\n",
       "      <th>2689</th>\n",
       "      <td>Zonalictus nomioides (Friese, 1905)</td>\n",
       "      <td>Halictidae</td>\n",
       "      <td>Female</td>\n",
       "      <td>A. Pauly</td>\n",
       "      <td>36.5838</td>\n",
       "      <td>-3.3562</td>\n",
       "      <td>1441</td>\n",
       "      <td>20.204674</td>\n",
       "      <td>Solanum lycopersicum L.</td>\n",
       "      <td>Solanaceae</td>\n",
       "      <td>Annual herb</td>\n",
       "      <td>sweep net</td>\n",
       "      <td>medium grazing intensity</td>\n",
       "      <td>long_rain</td>\n",
       "    </tr>\n",
       "    <tr>\n",
       "      <th>2690</th>\n",
       "      <td>Zonalictus nomioides (Friese, 1905)</td>\n",
       "      <td>Halictidae</td>\n",
       "      <td>Female</td>\n",
       "      <td>A. Pauly</td>\n",
       "      <td>36.8663</td>\n",
       "      <td>-3.2372</td>\n",
       "      <td>1576</td>\n",
       "      <td>19.169354</td>\n",
       "      <td>NaN</td>\n",
       "      <td>NaN</td>\n",
       "      <td>NaN</td>\n",
       "      <td>pan trap</td>\n",
       "      <td>low grazing intensity</td>\n",
       "      <td>long_rain</td>\n",
       "    </tr>\n",
       "  </tbody>\n",
       "</table>\n",
       "<p>2691 rows × 14 columns</p>\n",
       "</div>"
      ],
      "text/plain": [
       "                             species_name        family     sex identifier  \\\n",
       "0        Acunomia senticosa (Vachal 1897)    Halictidae  Female   A. Pauly   \n",
       "1         Acunomia somalica (Friese 1908)    Halictidae  Female   A. Pauly   \n",
       "2         Acunomia theryi (Gribodo, 1894)    Halictidae  Female   A. Pauly   \n",
       "3         Acunomia theryi (Gribodo, 1894)    Halictidae  Female   A. Pauly   \n",
       "4                     Afranthidium indet1  Megachilidae  Female  J. Lasway   \n",
       "...                                   ...           ...     ...        ...   \n",
       "2686  Zonalictus nomioides (Friese, 1905)    Halictidae  Female   A. Pauly   \n",
       "2687  Zonalictus nomioides (Friese, 1905)    Halictidae  Female   A. Pauly   \n",
       "2688  Zonalictus nomioides (Friese, 1905)    Halictidae  Female   A. Pauly   \n",
       "2689  Zonalictus nomioides (Friese, 1905)    Halictidae  Female   A. Pauly   \n",
       "2690  Zonalictus nomioides (Friese, 1905)    Halictidae  Female   A. Pauly   \n",
       "\n",
       "      dec_long (decimal degrees)  dec_lat (decimal degrees)  \\\n",
       "0                        36.0478                    -3.5657   \n",
       "1                        37.5968                    -3.3682   \n",
       "2                        37.0264                    -3.1259   \n",
       "3                        37.0264                    -3.1259   \n",
       "4                        36.7848                    -3.4002   \n",
       "...                          ...                        ...   \n",
       "2686                     36.4956                    -3.4079   \n",
       "2687                     37.0264                    -3.1259   \n",
       "2688                     37.0264                    -3.1259   \n",
       "2689                     36.5838                    -3.3562   \n",
       "2690                     36.8663                    -3.2372   \n",
       "\n",
       "      elevation (m a.s.l.)   MAT (°C)                         forage_resource  \\\n",
       "0                     1065  23.717757                      Solanum incanum L.   \n",
       "1                      940  23.350731            Tephrosia densiflora Hook.f.   \n",
       "2                     1380  19.753428                                     NaN   \n",
       "3                     1380  19.753428                      Solanum incanum L.   \n",
       "4                     1216  21.161605                                  On air   \n",
       "...                    ...        ...                                     ...   \n",
       "2686                  1330  21.397900         Schkuhria pinnata (Lam.) Kuntze   \n",
       "2687                  1380  19.753428  Gutenbergia cordifolia Benth. ex Oliv.   \n",
       "2688                  1380  19.753428                                  On air   \n",
       "2689                  1441  20.204674                 Solanum lycopersicum L.   \n",
       "2690                  1576  19.169354                                     NaN   \n",
       "\n",
       "        family.1        life_form collection_method         grazing_intensity  \\\n",
       "0     Solanaceae  Perennial shrub         sweep net     low grazing intensity   \n",
       "1       Fabaceae   Perennial herb         sweep net  medium grazing intensity   \n",
       "2            NaN              NaN          pan trap  medium grazing intensity   \n",
       "3     Solanaceae  Perennial shrub         sweep net  medium grazing intensity   \n",
       "4            NaN              NaN         sweep net  medium grazing intensity   \n",
       "...          ...              ...               ...                       ...   \n",
       "2686  Asteraceae      Annual herb         sweep net    high grazing intensity   \n",
       "2687  Asteraceae      Annual herb         sweep net  medium grazing intensity   \n",
       "2688         NaN              NaN         sweep net  medium grazing intensity   \n",
       "2689  Solanaceae      Annual herb         sweep net  medium grazing intensity   \n",
       "2690         NaN              NaN          pan trap     low grazing intensity   \n",
       "\n",
       "         season  \n",
       "0     long_rain  \n",
       "1     long_rain  \n",
       "2     long_rain  \n",
       "3     long_rain  \n",
       "4     long_rain  \n",
       "...         ...  \n",
       "2686  long_rain  \n",
       "2687  long_rain  \n",
       "2688  long_rain  \n",
       "2689  long_rain  \n",
       "2690  long_rain  \n",
       "\n",
       "[2691 rows x 14 columns]"
      ]
     },
     "execution_count": 47,
     "metadata": {},
     "output_type": "execute_result"
    }
   ],
   "source": [
    "df1.drop(columns=['S/No','date_of_collection'],inplace=True)\n",
    "df1"
   ]
  },
  {
   "cell_type": "code",
   "execution_count": 48,
   "id": "c6f3d021",
   "metadata": {
    "execution": {
     "iopub.execute_input": "2024-04-30T17:56:01.922248Z",
     "iopub.status.busy": "2024-04-30T17:56:01.921663Z",
     "iopub.status.idle": "2024-04-30T17:56:01.925210Z",
     "shell.execute_reply": "2024-04-30T17:56:01.924424Z"
    },
    "papermill": {
     "duration": 0.033516,
     "end_time": "2024-04-30T17:56:01.927066",
     "exception": false,
     "start_time": "2024-04-30T17:56:01.893550",
     "status": "completed"
    },
    "tags": []
   },
   "outputs": [],
   "source": [
    "# df1.dropna(inplace=True)"
   ]
  },
  {
   "cell_type": "code",
   "execution_count": 49,
   "id": "147761f9",
   "metadata": {
    "execution": {
     "iopub.execute_input": "2024-04-30T17:56:01.981640Z",
     "iopub.status.busy": "2024-04-30T17:56:01.981069Z",
     "iopub.status.idle": "2024-04-30T17:56:01.996445Z",
     "shell.execute_reply": "2024-04-30T17:56:01.995233Z"
    },
    "papermill": {
     "duration": 0.045669,
     "end_time": "2024-04-30T17:56:01.998904",
     "exception": false,
     "start_time": "2024-04-30T17:56:01.953235",
     "status": "completed"
    },
    "tags": []
   },
   "outputs": [],
   "source": [
    "from sklearn.preprocessing import LabelEncoder\n",
    "columns_to_encode = ['species_name','family','sex','collection_method','identifier','forage_resource','family.1','life_form','grazing_intensity','season']\n",
    "\n",
    "\n",
    "encoder = LabelEncoder()\n",
    "\n",
    "for column in columns_to_encode:\n",
    "    df1[column] = encoder.fit_transform(df1[column])"
   ]
  },
  {
   "cell_type": "code",
   "execution_count": 50,
   "id": "f4cd86ce",
   "metadata": {
    "execution": {
     "iopub.execute_input": "2024-04-30T17:56:02.053783Z",
     "iopub.status.busy": "2024-04-30T17:56:02.053336Z",
     "iopub.status.idle": "2024-04-30T17:56:02.060618Z",
     "shell.execute_reply": "2024-04-30T17:56:02.059887Z"
    },
    "papermill": {
     "duration": 0.037227,
     "end_time": "2024-04-30T17:56:02.062890",
     "exception": false,
     "start_time": "2024-04-30T17:56:02.025663",
     "status": "completed"
    },
    "tags": []
   },
   "outputs": [],
   "source": [
    "X=df1.drop(columns='species_name')\n",
    "y=df1[['species_name']]"
   ]
  },
  {
   "cell_type": "code",
   "execution_count": 51,
   "id": "b9f4e533",
   "metadata": {
    "execution": {
     "iopub.execute_input": "2024-04-30T17:56:02.119667Z",
     "iopub.status.busy": "2024-04-30T17:56:02.119015Z",
     "iopub.status.idle": "2024-04-30T17:56:02.701167Z",
     "shell.execute_reply": "2024-04-30T17:56:02.699723Z"
    },
    "papermill": {
     "duration": 0.612978,
     "end_time": "2024-04-30T17:56:02.703495",
     "exception": false,
     "start_time": "2024-04-30T17:56:02.090517",
     "status": "completed"
    },
    "tags": []
   },
   "outputs": [
    {
     "name": "stdout",
     "output_type": "stream",
     "text": [
      "Decision Tree Accuracy: 0.6150990099009901\n",
      "Random Forest Accuracy: 0.6113861386138614\n"
     ]
    }
   ],
   "source": [
    "from sklearn.tree import DecisionTreeClassifier\n",
    "from sklearn.ensemble import RandomForestClassifier\n",
    "from sklearn.metrics import accuracy_score\n",
    "\n",
    "\n",
    "\n",
    "X_train, X_test, y_train, y_test = train_test_split(X, y,test_size=0.3, random_state = 0)\n",
    "\n",
    "# Decision Tree\n",
    "dt_model = DecisionTreeClassifier()\n",
    "dt_model.fit(X_train, y_train.values.ravel())\n",
    "dt_predictions = dt_model.predict(X_test)\n",
    "dt_accuracy = accuracy_score(y_test, dt_predictions)\n",
    "\n",
    "# Random Forest\n",
    "rf_model = RandomForestClassifier()\n",
    "rf_model.fit(X_train, y_train.values.ravel())\n",
    "rf_predictions = rf_model.predict(X_test)\n",
    "rf_accuracy = accuracy_score(y_test, rf_predictions)\n",
    "\n",
    "print(\"Decision Tree Accuracy:\", dt_accuracy)\n",
    "print(\"Random Forest Accuracy:\", rf_accuracy)\n"
   ]
  },
  {
   "cell_type": "code",
   "execution_count": 52,
   "id": "f0ae2d0a",
   "metadata": {
    "execution": {
     "iopub.execute_input": "2024-04-30T17:56:02.760619Z",
     "iopub.status.busy": "2024-04-30T17:56:02.760070Z",
     "iopub.status.idle": "2024-04-30T17:57:46.863728Z",
     "shell.execute_reply": "2024-04-30T17:57:46.862643Z"
    },
    "papermill": {
     "duration": 104.161182,
     "end_time": "2024-04-30T17:57:46.892457",
     "exception": false,
     "start_time": "2024-04-30T17:56:02.731275",
     "status": "completed"
    },
    "tags": []
   },
   "outputs": [
    {
     "name": "stdout",
     "output_type": "stream",
     "text": [
      "Gradient Boosting Accuracy: 0.34405940594059403\n"
     ]
    }
   ],
   "source": [
    "from sklearn.ensemble import GradientBoostingClassifier\n",
    "\n",
    "X_train, X_test, y_train, y_test = train_test_split(X, y, test_size=0.3, random_state=0)\n",
    "\n",
    "# Gradient Boosting\n",
    "gb_model = GradientBoostingClassifier()\n",
    "gb_model.fit(X_train, y_train.values.ravel())\n",
    "gb_predictions = gb_model.predict(X_test)\n",
    "gb_accuracy = accuracy_score(y_test, gb_predictions)\n",
    "\n",
    "print(\"Gradient Boosting Accuracy:\", gb_accuracy)\n"
   ]
  }
 ],
 "metadata": {
  "kaggle": {
   "accelerator": "none",
   "dataSources": [
    {
     "datasetId": 4884852,
     "sourceId": 8235838,
     "sourceType": "datasetVersion"
    }
   ],
   "dockerImageVersionId": 30699,
   "isGpuEnabled": false,
   "isInternetEnabled": true,
   "language": "python",
   "sourceType": "notebook"
  },
  "kernelspec": {
   "display_name": "Python 3",
   "language": "python",
   "name": "python3"
  },
  "language_info": {
   "codemirror_mode": {
    "name": "ipython",
    "version": 3
   },
   "file_extension": ".py",
   "mimetype": "text/x-python",
   "name": "python",
   "nbconvert_exporter": "python",
   "pygments_lexer": "ipython3",
   "version": "3.10.13"
  },
  "papermill": {
   "default_parameters": {},
   "duration": 241.311061,
   "end_time": "2024-04-30T17:57:47.640558",
   "environment_variables": {},
   "exception": null,
   "input_path": "__notebook__.ipynb",
   "output_path": "__notebook__.ipynb",
   "parameters": {},
   "start_time": "2024-04-30T17:53:46.329497",
   "version": "2.5.0"
  }
 },
 "nbformat": 4,
 "nbformat_minor": 5
}
